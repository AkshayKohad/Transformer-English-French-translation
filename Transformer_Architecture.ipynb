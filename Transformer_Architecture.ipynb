{
  "metadata": {
    "kernelspec": {
      "name": "python3",
      "display_name": "Python 3",
      "language": "python"
    },
    "language_info": {
      "name": "python",
      "version": "3.10.14",
      "mimetype": "text/x-python",
      "codemirror_mode": {
        "name": "ipython",
        "version": 3
      },
      "pygments_lexer": "ipython3",
      "nbconvert_exporter": "python",
      "file_extension": ".py"
    },
    "colab": {
      "provenance": [],
      "machine_shape": "hm",
      "name": "Transformer Architecture",
      "include_colab_link": true
    },
    "accelerator": "GPU",
    "kaggle": {
      "accelerator": "gpu",
      "dataSources": [
        {
          "sourceId": 9494001,
          "sourceType": "datasetVersion",
          "datasetId": 5776893
        }
      ],
      "dockerImageVersionId": 30775,
      "isInternetEnabled": true,
      "language": "python",
      "sourceType": "notebook",
      "isGpuEnabled": true
    }
  },
  "nbformat_minor": 0,
  "nbformat": 4,
  "cells": [
    {
      "cell_type": "markdown",
      "metadata": {
        "id": "view-in-github",
        "colab_type": "text"
      },
      "source": [
        "<a href=\"https://colab.research.google.com/github/AkshayKohad/Transformer-English-French-translation/blob/main/Transformer_Architecture.ipynb\" target=\"_parent\"><img src=\"https://colab.research.google.com/assets/colab-badge.svg\" alt=\"Open In Colab\"/></a>"
      ]
    },
    {
      "source": [
        "# IMPORTANT: SOME KAGGLE DATA SOURCES ARE PRIVATE\n",
        "# RUN THIS CELL IN ORDER TO IMPORT YOUR KAGGLE DATA SOURCES.\n",
        "import kagglehub\n",
        "kagglehub.login()\n"
      ],
      "metadata": {
        "id": "mKV9xpZyfXCC"
      },
      "cell_type": "code",
      "outputs": [],
      "execution_count": null
    },
    {
      "source": [
        "# IMPORTANT: RUN THIS CELL IN ORDER TO IMPORT YOUR KAGGLE DATA SOURCES,\n",
        "# THEN FEEL FREE TO DELETE THIS CELL.\n",
        "# NOTE: THIS NOTEBOOK ENVIRONMENT DIFFERS FROM KAGGLE'S PYTHON\n",
        "# ENVIRONMENT SO THERE MAY BE MISSING LIBRARIES USED BY YOUR\n",
        "# NOTEBOOK.\n",
        "\n",
        "akshaykohad_ted_talks_corpus_path = kagglehub.dataset_download('akshaykohad/ted-talks-corpus')\n",
        "\n",
        "print('Data source import complete.')\n"
      ],
      "metadata": {
        "id": "cH2FnrjgfXCD"
      },
      "cell_type": "code",
      "outputs": [],
      "execution_count": null
    },
    {
      "cell_type": "markdown",
      "source": [
        "In this notebook, I train a transformer model for translating English to French. The model structure is the same as that of the original [Attention Is All You Need](https://arxiv.org/pdf/1706.03762.pdf) paper."
      ],
      "metadata": {
        "id": "D23TRFotJ6bh"
      }
    },
    {
      "cell_type": "code",
      "source": [
        "!pip install sentencepiece --quiet\n",
        "!pip install sacrebleu --quiet\n",
        "!pip install torchdata --quiet\n",
        "!pip install torchtext --quiet"
      ],
      "metadata": {
        "id": "jtTpObu_cdP2",
        "execution": {
          "iopub.status.busy": "2024-10-02T17:18:50.628049Z",
          "iopub.execute_input": "2024-10-02T17:18:50.628878Z",
          "iopub.status.idle": "2024-10-02T17:19:40.636754Z",
          "shell.execute_reply.started": "2024-10-02T17:18:50.628832Z",
          "shell.execute_reply": "2024-10-02T17:19:40.635406Z"
        },
        "trusted": true
      },
      "outputs": [],
      "execution_count": null
    },
    {
      "cell_type": "code",
      "source": [
        "import math\n",
        "from dataclasses import dataclass\n",
        "\n",
        "import numpy as np\n",
        "import sacrebleu\n",
        "import sentencepiece as spm\n",
        "import torch\n",
        "import torch.nn as nn\n",
        "from torch.utils.data import Dataset\n",
        "from tqdm import tqdm\n",
        "\n",
        "seed = 42\n",
        "torch.manual_seed(seed)\n",
        "np.random.seed(seed)\n",
        "\n",
        "DEVICE = torch.device(\"cuda\" if torch.cuda.is_available() else \"cpu\")\n",
        "print(DEVICE)"
      ],
      "metadata": {
        "id": "ToFDXgFP5fys",
        "colab": {
          "base_uri": "https://localhost:8080/"
        },
        "outputId": "00a2ca85-4ea1-4d86-b809-1936b84d4ead",
        "execution": {
          "iopub.status.busy": "2024-10-02T17:19:43.423845Z",
          "iopub.execute_input": "2024-10-02T17:19:43.424266Z",
          "iopub.status.idle": "2024-10-02T17:19:43.434354Z",
          "shell.execute_reply.started": "2024-10-02T17:19:43.424224Z",
          "shell.execute_reply": "2024-10-02T17:19:43.433228Z"
        },
        "trusted": true
      },
      "outputs": [
        {
          "name": "stdout",
          "text": "cuda\n",
          "output_type": "stream"
        }
      ],
      "execution_count": null
    },
    {
      "cell_type": "code",
      "source": [
        "def read_file(file_path):\n",
        "    with open(file_path, 'r', encoding='utf-8') as file:\n",
        "        return [line.strip() for line in file.readlines()]\n",
        "\n",
        "# File paths\n",
        "train_en_path = '/kaggle/input/ted-talks-corpus/ted-talks-corpus/train.en'\n",
        "test_en_path = '/kaggle/input/ted-talks-corpus/ted-talks-corpus/test.en'\n",
        "train_fr_path = '/kaggle/input/ted-talks-corpus/ted-talks-corpus/train.fr'\n",
        "test_fr_path = '/kaggle/input/ted-talks-corpus/ted-talks-corpus/test.fr'\n",
        "dev_en_path = '/kaggle/input/ted-talks-corpus/ted-talks-corpus/dev.en'\n",
        "dev_fr_path = '/kaggle/input/ted-talks-corpus/ted-talks-corpus/dev.fr'\n",
        "# Read the data\n",
        "train_en = read_file(train_en_path)\n",
        "test_en = read_file(test_en_path)\n",
        "train_fr = read_file(train_fr_path)\n",
        "test_fr = read_file(test_fr_path)\n",
        "dev_en = read_file(dev_en_path)\n",
        "dev_fr = read_file(dev_fr_path)\n",
        "# Store the data in a dictionary\n",
        "data = {\n",
        "    'train': {\n",
        "        'en': train_en,\n",
        "        'fr': train_fr\n",
        "    },\n",
        "    'test': {\n",
        "        'en': test_en,\n",
        "        'fr': test_fr\n",
        "    },\n",
        "    'dev':{\n",
        "        'en': dev_en,\n",
        "        'fr': dev_fr\n",
        "    }\n",
        "\n",
        "}\n",
        "\n",
        "# Example: Accessing the data\n",
        "print(\"Number of training English sentences:\", len(data['train']['en']))\n",
        "print(\"First training English sentence:\", data['train']['en'][0])\n",
        "print(\"First training English sentence:\", data['train']['fr'][0])\n"
      ],
      "metadata": {
        "execution": {
          "iopub.status.busy": "2024-10-02T17:19:44.65322Z",
          "iopub.execute_input": "2024-10-02T17:19:44.653653Z",
          "iopub.status.idle": "2024-10-02T17:19:44.743877Z",
          "shell.execute_reply.started": "2024-10-02T17:19:44.653601Z",
          "shell.execute_reply": "2024-10-02T17:19:44.742789Z"
        },
        "trusted": true,
        "id": "SH2YG4jmfXCG",
        "outputId": "0cfeb5bf-c872-4517-bfb6-6dccbd35f76d"
      },
      "outputs": [
        {
          "name": "stdout",
          "text": "Number of training English sentences: 30000\nFirst training English sentence: David Gallo: This is Bill Lange. I'm Dave Gallo.\nFirst training English sentence: David Gallo: Voici Bill Lange. Je suis Dave Gallo.\n",
          "output_type": "stream"
        }
      ],
      "execution_count": null
    },
    {
      "cell_type": "markdown",
      "source": [
        "# Get English and french tokenizers from SentencePiece"
      ],
      "metadata": {
        "id": "Jq10RHNKZTDo"
      }
    },
    {
      "cell_type": "code",
      "source": [
        "en_vocab_size = 10000\n",
        "fr_vocab_size = 8000\n",
        "vocab_sizes = {\"en\": en_vocab_size, \"fr\": fr_vocab_size}"
      ],
      "metadata": {
        "id": "N1eDUeBkFnea",
        "execution": {
          "iopub.status.busy": "2024-10-02T17:19:46.946397Z",
          "iopub.execute_input": "2024-10-02T17:19:46.947136Z",
          "iopub.status.idle": "2024-10-02T17:19:46.952019Z",
          "shell.execute_reply.started": "2024-10-02T17:19:46.947093Z",
          "shell.execute_reply": "2024-10-02T17:19:46.950929Z"
        },
        "trusted": true
      },
      "outputs": [],
      "execution_count": null
    },
    {
      "cell_type": "code",
      "source": [
        "# Train SentencePiece models\n",
        "spm.SentencePieceTrainer.train(\n",
        "    f'--input={train_en_path} --model_prefix=train_en --vocab_size={en_vocab_size} --user_defined_symbols=<pad>'\n",
        ")\n",
        "spm.SentencePieceTrainer.train(\n",
        "    f'--input={train_fr_path} --model_prefix=train_fr --vocab_size={fr_vocab_size} --user_defined_symbols=<pad>'\n",
        ")\n",
        "\n",
        "# Load the SentencePiece models\n",
        "en_sp = spm.SentencePieceProcessor()\n",
        "en_sp.load('train_en.model')\n",
        "\n",
        "fr_sp = spm.SentencePieceProcessor()\n",
        "fr_sp.load('train_fr.model')\n",
        "\n",
        "# Example: Encoding and decoding with the SentencePiece models\n",
        "# Encoding: text to IDs\n",
        "sample_sentence_en = \"This is a test\"\n",
        "sample_sentence_fr = \"Ceci est un test\"\n",
        "\n",
        "tokenized_en = en_sp.encode_as_ids(sample_sentence_en)\n",
        "tokenized_fr = fr_sp.encode_as_ids(sample_sentence_fr)\n",
        "\n",
        "print(\"Tokenized English:\", tokenized_en)\n",
        "print(\"Tokenized French:\", tokenized_fr)\n",
        "\n",
        "# Decoding: IDs to text\n",
        "decoded_en = en_sp.decode_ids(tokenized_en)\n",
        "decoded_fr = fr_sp.decode_ids(tokenized_fr)\n",
        "\n",
        "print(\"Decoded English:\", decoded_en)\n",
        "print(\"Decoded French:\", decoded_fr)"
      ],
      "metadata": {
        "execution": {
          "iopub.status.busy": "2024-10-02T17:19:47.9376Z",
          "iopub.execute_input": "2024-10-02T17:19:47.937988Z",
          "iopub.status.idle": "2024-10-02T17:19:57.290255Z",
          "shell.execute_reply.started": "2024-10-02T17:19:47.937951Z",
          "shell.execute_reply": "2024-10-02T17:19:57.289222Z"
        },
        "trusted": true,
        "id": "JPBoTUQXfXCH",
        "outputId": "20fa8f44-7c2a-4c5c-e738-e6df04880000"
      },
      "outputs": [
        {
          "name": "stdout",
          "text": "Tokenized English: [103, 16, 11, 774]\nTokenized French: [660, 33, 19, 1139]\nDecoded English: This is a test\nDecoded French: Ceci est un test\n",
          "output_type": "stream"
        },
        {
          "name": "stderr",
          "text": "sentencepiece_trainer.cc(178) LOG(INFO) Running command: --input=/kaggle/input/ted-talks-corpus/ted-talks-corpus/train.en --model_prefix=train_en --vocab_size=10000 --user_defined_symbols=<pad>\nsentencepiece_trainer.cc(78) LOG(INFO) Starts training with : \ntrainer_spec {\n  input: /kaggle/input/ted-talks-corpus/ted-talks-corpus/train.en\n  input_format: \n  model_prefix: train_en\n  model_type: UNIGRAM\n  vocab_size: 10000\n  self_test_sample_size: 0\n  character_coverage: 0.9995\n  input_sentence_size: 0\n  shuffle_input_sentence: 1\n  seed_sentencepiece_size: 1000000\n  shrinking_factor: 0.75\n  max_sentence_length: 4192\n  num_threads: 16\n  num_sub_iterations: 2\n  max_sentencepiece_length: 16\n  split_by_unicode_script: 1\n  split_by_number: 1\n  split_by_whitespace: 1\n  split_digits: 0\n  pretokenization_delimiter: \n  treat_whitespace_as_suffix: 0\n  allow_whitespace_only_pieces: 0\n  user_defined_symbols: <pad>\n  required_chars: \n  byte_fallback: 0\n  vocabulary_output_piece_score: 1\n  train_extremely_large_corpus: 0\n  seed_sentencepieces_file: \n  hard_vocab_limit: 1\n  use_all_vocab: 0\n  unk_id: 0\n  bos_id: 1\n  eos_id: 2\n  pad_id: -1\n  unk_piece: <unk>\n  bos_piece: <s>\n  eos_piece: </s>\n  pad_piece: <pad>\n  unk_surface:  ⁇ \n  enable_differential_privacy: 0\n  differential_privacy_noise_level: 0\n  differential_privacy_clipping_threshold: 0\n}\nnormalizer_spec {\n  name: nmt_nfkc\n  add_dummy_prefix: 1\n  remove_extra_whitespaces: 1\n  escape_whitespaces: 1\n  normalization_rule_tsv: \n}\ndenormalizer_spec {}\ntrainer_interface.cc(353) LOG(INFO) SentenceIterator is not specified. Using MultiFileSentenceIterator.\ntrainer_interface.cc(185) LOG(INFO) Loading corpus: /kaggle/input/ted-talks-corpus/ted-talks-corpus/train.en\ntrainer_interface.cc(409) LOG(INFO) Loaded all 30000 sentences\ntrainer_interface.cc(425) LOG(INFO) Adding meta_piece: <unk>\ntrainer_interface.cc(425) LOG(INFO) Adding meta_piece: <s>\ntrainer_interface.cc(425) LOG(INFO) Adding meta_piece: </s>\ntrainer_interface.cc(425) LOG(INFO) Adding meta_piece: <pad>\ntrainer_interface.cc(430) LOG(INFO) Normalizing sentences...\ntrainer_interface.cc(539) LOG(INFO) all chars count=2883016\ntrainer_interface.cc(550) LOG(INFO) Done: 99.9549% characters are covered.\ntrainer_interface.cc(560) LOG(INFO) Alphabet size=72\ntrainer_interface.cc(561) LOG(INFO) Final character coverage=0.999549\ntrainer_interface.cc(592) LOG(INFO) Done! preprocessed 30000 sentences.\nunigram_model_trainer.cc(265) LOG(INFO) Making suffix array...\nunigram_model_trainer.cc(269) LOG(INFO) Extracting frequent sub strings... node_num=1498193\nunigram_model_trainer.cc(312) LOG(INFO) Initialized 68805 seed sentencepieces\ntrainer_interface.cc(598) LOG(INFO) Tokenizing input sentences with whitespace: 30000\ntrainer_interface.cc(609) LOG(INFO) Done! 43727\nunigram_model_trainer.cc(602) LOG(INFO) Using 43727 sentences for EM training\nunigram_model_trainer.cc(618) LOG(INFO) EM sub_iter=0 size=23734 obj=11.0031 num_tokens=99393 num_tokens/piece=4.18779\nunigram_model_trainer.cc(618) LOG(INFO) EM sub_iter=1 size=20520 obj=8.70537 num_tokens=99761 num_tokens/piece=4.86165\nunigram_model_trainer.cc(618) LOG(INFO) EM sub_iter=0 size=15388 obj=8.70727 num_tokens=106174 num_tokens/piece=6.89979\nunigram_model_trainer.cc(618) LOG(INFO) EM sub_iter=1 size=15382 obj=8.68277 num_tokens=106170 num_tokens/piece=6.90222\nunigram_model_trainer.cc(618) LOG(INFO) EM sub_iter=0 size=11536 obj=8.82342 num_tokens=116020 num_tokens/piece=10.0572\nunigram_model_trainer.cc(618) LOG(INFO) EM sub_iter=1 size=11535 obj=8.7919 num_tokens=116017 num_tokens/piece=10.0578\nunigram_model_trainer.cc(618) LOG(INFO) EM sub_iter=0 size=11000 obj=8.81493 num_tokens=117534 num_tokens/piece=10.6849\nunigram_model_trainer.cc(618) LOG(INFO) EM sub_iter=1 size=10999 obj=8.81081 num_tokens=117534 num_tokens/piece=10.6859\ntrainer_interface.cc(687) LOG(INFO) Saving model: train_en.model\ntrainer_interface.cc(699) LOG(INFO) Saving vocabs: train_en.vocab\nsentencepiece_trainer.cc(178) LOG(INFO) Running command: --input=/kaggle/input/ted-talks-corpus/ted-talks-corpus/train.fr --model_prefix=train_fr --vocab_size=8000 --user_defined_symbols=<pad>\nsentencepiece_trainer.cc(78) LOG(INFO) Starts training with : \ntrainer_spec {\n  input: /kaggle/input/ted-talks-corpus/ted-talks-corpus/train.fr\n  input_format: \n  model_prefix: train_fr\n  model_type: UNIGRAM\n  vocab_size: 8000\n  self_test_sample_size: 0\n  character_coverage: 0.9995\n  input_sentence_size: 0\n  shuffle_input_sentence: 1\n  seed_sentencepiece_size: 1000000\n  shrinking_factor: 0.75\n  max_sentence_length: 4192\n  num_threads: 16\n  num_sub_iterations: 2\n  max_sentencepiece_length: 16\n  split_by_unicode_script: 1\n  split_by_number: 1\n  split_by_whitespace: 1\n  split_digits: 0\n  pretokenization_delimiter: \n  treat_whitespace_as_suffix: 0\n  allow_whitespace_only_pieces: 0\n  user_defined_symbols: <pad>\n  required_chars: \n  byte_fallback: 0\n  vocabulary_output_piece_score: 1\n  train_extremely_large_corpus: 0\n  seed_sentencepieces_file: \n  hard_vocab_limit: 1\n  use_all_vocab: 0\n  unk_id: 0\n  bos_id: 1\n  eos_id: 2\n  pad_id: -1\n  unk_piece: <unk>\n  bos_piece: <s>\n  eos_piece: </s>\n  pad_piece: <pad>\n  unk_surface:  ⁇ \n  enable_differential_privacy: 0\n  differential_privacy_noise_level: 0\n  differential_privacy_clipping_threshold: 0\n}\nnormalizer_spec {\n  name: nmt_nfkc\n  add_dummy_prefix: 1\n  remove_extra_whitespaces: 1\n  escape_whitespaces: 1\n  normalization_rule_tsv: \n}\ndenormalizer_spec {}\ntrainer_interface.cc(353) LOG(INFO) SentenceIterator is not specified. Using MultiFileSentenceIterator.\ntrainer_interface.cc(185) LOG(INFO) Loading corpus: /kaggle/input/ted-talks-corpus/ted-talks-corpus/train.fr\ntrainer_interface.cc(409) LOG(INFO) Loaded all 30000 sentences\ntrainer_interface.cc(425) LOG(INFO) Adding meta_piece: <unk>\ntrainer_interface.cc(425) LOG(INFO) Adding meta_piece: <s>\ntrainer_interface.cc(425) LOG(INFO) Adding meta_piece: </s>\ntrainer_interface.cc(425) LOG(INFO) Adding meta_piece: <pad>\ntrainer_interface.cc(430) LOG(INFO) Normalizing sentences...\ntrainer_interface.cc(539) LOG(INFO) all chars count=3270842\ntrainer_interface.cc(550) LOG(INFO) Done: 99.9545% characters are covered.\ntrainer_interface.cc(560) LOG(INFO) Alphabet size=91\ntrainer_interface.cc(561) LOG(INFO) Final character coverage=0.999545\ntrainer_interface.cc(592) LOG(INFO) Done! preprocessed 30000 sentences.\nunigram_model_trainer.cc(265) LOG(INFO) Making suffix array...\nunigram_model_trainer.cc(269) LOG(INFO) Extracting frequent sub strings... node_num=1740714\nunigram_model_trainer.cc(312) LOG(INFO) Initialized 90337 seed sentencepieces\ntrainer_interface.cc(598) LOG(INFO) Tokenizing input sentences with whitespace: 30000\ntrainer_interface.cc(609) LOG(INFO) Done! 53765\nunigram_model_trainer.cc(602) LOG(INFO) Using 53765 sentences for EM training\nunigram_model_trainer.cc(618) LOG(INFO) EM sub_iter=0 size=29951 obj=12.0533 num_tokens=132113 num_tokens/piece=4.41097\nunigram_model_trainer.cc(618) LOG(INFO) EM sub_iter=1 size=26257 obj=9.55861 num_tokens=132701 num_tokens/piece=5.05393\nunigram_model_trainer.cc(618) LOG(INFO) EM sub_iter=0 size=19688 obj=9.58034 num_tokens=140371 num_tokens/piece=7.12977\nunigram_model_trainer.cc(618) LOG(INFO) EM sub_iter=1 size=19679 obj=9.55018 num_tokens=140431 num_tokens/piece=7.13608\nunigram_model_trainer.cc(618) LOG(INFO) EM sub_iter=0 size=14759 obj=9.70965 num_tokens=152021 num_tokens/piece=10.3002\nunigram_model_trainer.cc(618) LOG(INFO) EM sub_iter=1 size=14759 obj=9.67058 num_tokens=152000 num_tokens/piece=10.2988\nunigram_model_trainer.cc(618) LOG(INFO) EM sub_iter=0 size=11069 obj=9.88787 num_tokens=165067 num_tokens/piece=14.9125\nunigram_model_trainer.cc(618) LOG(INFO) EM sub_iter=1 size=11069 obj=9.84274 num_tokens=165059 num_tokens/piece=14.9118\nunigram_model_trainer.cc(618) LOG(INFO) EM sub_iter=0 size=8800 obj=10.0443 num_tokens=176129 num_tokens/piece=20.0147\nunigram_model_trainer.cc(618) LOG(INFO) EM sub_iter=1 size=8800 obj=10.0069 num_tokens=176116 num_tokens/piece=20.0132\ntrainer_interface.cc(687) LOG(INFO) Saving model: train_fr.model\ntrainer_interface.cc(699) LOG(INFO) Saving vocabs: train_fr.vocab\n",
          "output_type": "stream"
        }
      ],
      "execution_count": null
    },
    {
      "cell_type": "code",
      "source": [
        "# indexes of special symbols\n",
        "UNK, BOS, EOS, PAD = 0, 1, 2, 3"
      ],
      "metadata": {
        "id": "8grAiF0GfmYx",
        "execution": {
          "iopub.status.busy": "2024-10-02T17:19:57.292113Z",
          "iopub.execute_input": "2024-10-02T17:19:57.29247Z",
          "iopub.status.idle": "2024-10-02T17:19:57.308672Z",
          "shell.execute_reply.started": "2024-10-02T17:19:57.292434Z",
          "shell.execute_reply": "2024-10-02T17:19:57.307592Z"
        },
        "trusted": true
      },
      "outputs": [],
      "execution_count": null
    },
    {
      "cell_type": "markdown",
      "source": [
        "# Data processing"
      ],
      "metadata": {
        "id": "OuOHh7fF5Tn8"
      }
    },
    {
      "cell_type": "markdown",
      "source": [],
      "metadata": {
        "id": "mqoEpTg6fXCH"
      }
    },
    {
      "cell_type": "code",
      "source": [
        "train_set = [(x.rstrip('\\n'), y.rstrip('\\n')) for x, y in zip(data['train']['en'], data['train']['fr']) if x != '']\n",
        "valid_set = [(x.rstrip('\\n'), y.rstrip('\\n')) for x, y in zip(data['dev']['en'],data['dev']['fr']) if x!='']\n",
        "test_set  = [(x.rstrip('\\n'), y.rstrip('\\n')) for x, y in zip(data['test']['en'],data['test']['fr']) if x!='']\n",
        "print(len(train_set), len(valid_set), len(test_set))\n"
      ],
      "metadata": {
        "id": "jh3Nxm7VaHIQ",
        "colab": {
          "base_uri": "https://localhost:8080/"
        },
        "outputId": "a6f5f56d-1299-4add-9353-ca86bbd8ddb6",
        "execution": {
          "iopub.status.busy": "2024-10-02T17:19:57.309974Z",
          "iopub.execute_input": "2024-10-02T17:19:57.310361Z",
          "iopub.status.idle": "2024-10-02T17:19:57.345553Z",
          "shell.execute_reply.started": "2024-10-02T17:19:57.310324Z",
          "shell.execute_reply": "2024-10-02T17:19:57.344528Z"
        },
        "trusted": true
      },
      "outputs": [
        {
          "name": "stdout",
          "text": "30000 887 1305\n",
          "output_type": "stream"
        }
      ],
      "execution_count": null
    },
    {
      "cell_type": "code",
      "source": [
        "max_seq_len = 50\n",
        "# Tokenization with BOS and EOS\n",
        "def tokenize_with_bos_eos(sp, sentence):\n",
        "    tokenized = sp.encode_as_ids(sentence)[0:max_seq_len-2]\n",
        "    return [BOS] + tokenized + [EOS]\n",
        "\n",
        "# Create tokenized datasets with BOS and EOS\n",
        "train_set = [(tokenize_with_bos_eos(en_sp, x), tokenize_with_bos_eos(fr_sp, y))\n",
        "             for x, y in zip(data['train']['en'], data['train']['fr']) if x != '']\n",
        "valid_set = [(tokenize_with_bos_eos(en_sp, x), tokenize_with_bos_eos(fr_sp, y))\n",
        "             for x, y in zip(data['dev']['en'], data['dev']['fr']) if x != '']\n",
        "test_set = [(tokenize_with_bos_eos(en_sp, x), tokenize_with_bos_eos(fr_sp, y))\n",
        "            for x, y in zip(data['test']['en'], data['test']['fr']) if x != '']\n",
        "\n",
        "# en_sp.encode_as_ids\n",
        "\n",
        "# def tokenize_dataset(dataset):\n",
        "#     'tokenize a dataset and add [BOS] and [EOS] to the beginning and end of the sentences'\n",
        "#     return [(torch.tensor([BOS]+tokenizers[SRC](src_text)[0:max_seq_len-2]+[EOS]),\n",
        "#              torch.tensor([BOS]+tokenizers[TRG](trg_text)[0:max_seq_len-2]+[EOS]))\n",
        "#             for src_text, trg_text in dataset]\n",
        "\n",
        "# train_tokenized = tokenize_dataset(train_set)\n",
        "# valid_tokenized = tokenize_dataset(valid_set)\n",
        "# test_tokenized  = tokenize_dataset(test_set)"
      ],
      "metadata": {
        "execution": {
          "iopub.status.busy": "2024-10-02T17:19:57.348469Z",
          "iopub.execute_input": "2024-10-02T17:19:57.34921Z",
          "iopub.status.idle": "2024-10-02T17:19:59.265604Z",
          "shell.execute_reply.started": "2024-10-02T17:19:57.34914Z",
          "shell.execute_reply": "2024-10-02T17:19:59.264745Z"
        },
        "trusted": true,
        "id": "rMSir2pMfXCI"
      },
      "outputs": [],
      "execution_count": null
    },
    {
      "cell_type": "code",
      "source": [
        "import torch\n",
        "from torch.utils.data import Dataset\n",
        "\n",
        "class TranslationDataset(Dataset):\n",
        "    \"\"\"Create a dataset for torch.utils.data.DataLoader() for translation tasks.\"\"\"\n",
        "\n",
        "    def __init__(self, data, en_tokenizer, fr_tokenizer):\n",
        "        self.data = data\n",
        "        self.en_tokenizer = en_tokenizer\n",
        "        self.fr_tokenizer = fr_tokenizer\n",
        "\n",
        "    def __len__(self):\n",
        "        return len(self.data)\n",
        "\n",
        "    def __getitem__(self, idx):\n",
        "        # Retrieve the source and target sentences\n",
        "        src, trg = self.data[idx]\n",
        "\n",
        "        # Tokenize and add special tokens\n",
        "        src_tokens = src #[BOS] + self.en_tokenizer.encode_as_ids(src) + [EOS]\n",
        "        trg_tokens = trg #[BOS] + self.fr_tokenizer.encode_as_ids(trg) + [EOS]\n",
        "\n",
        "        # Convert to PyTorch tensors\n",
        "        src_tensor = torch.tensor(src_tokens, dtype=torch.long)\n",
        "        trg_tensor = torch.tensor(trg_tokens, dtype=torch.long)\n",
        "\n",
        "        return src_tensor, trg_tensor\n",
        "\n",
        "def pad_sequence(batch):\n",
        "    \"\"\"Collate function for padding sentences such that all sentences in the batch have the same length.\"\"\"\n",
        "    src_seqs = [src for src, trg in batch]\n",
        "    trg_seqs = [trg for src, trg in batch]\n",
        "\n",
        "    # Pad the source and target sequences\n",
        "    src_padded = torch.nn.utils.rnn.pad_sequence(src_seqs, batch_first=True, padding_value=PAD)\n",
        "    trg_padded = torch.nn.utils.rnn.pad_sequence(trg_seqs, batch_first=True, padding_value=PAD)\n",
        "\n",
        "    return src_padded, trg_padded\n",
        "\n",
        "# Create the datasets\n",
        "# train_set = [(x.rstrip('\\n'), y.rstrip('\\n')) for x, y in zip(data['train']['en'], data['train']['fr']) if x != '']\n",
        "# valid_set = [(x.rstrip('\\n'), y.rstrip('\\n')) for x, y in zip(data['dev']['en'], data['dev']['fr']) if x != '']\n",
        "# test_set  = [(x.rstrip('\\n'), y.rstrip('\\n')) for x, y in zip(data['test']['en'], data['test']['fr']) if x != '']\n",
        "\n",
        "# # Instantiate the TranslationDataset\n",
        "# train_dataset = TranslationDataset(train_set, en_sp, fr_sp)\n",
        "# valid_dataset = TranslationDataset(valid_set, en_sp, fr_sp)\n",
        "# test_dataset = TranslationDataset(test_set, en_sp, fr_sp)\n",
        "\n",
        "# Check lengths of datasets\n",
        "# print(len(train_dataset))\n",
        "# print(len(valid_dataset))\n",
        "# print(len(test_dataset))\n",
        "\n",
        "# Example of accessing an item\n",
        "# print(\"Sample from train dataset:\", train_dataset[0])\n"
      ],
      "metadata": {
        "execution": {
          "iopub.status.busy": "2024-10-02T17:19:59.266774Z",
          "iopub.execute_input": "2024-10-02T17:19:59.267106Z",
          "iopub.status.idle": "2024-10-02T17:19:59.279184Z",
          "shell.execute_reply.started": "2024-10-02T17:19:59.267065Z",
          "shell.execute_reply": "2024-10-02T17:19:59.27826Z"
        },
        "trusted": true,
        "id": "pkRM006qfXCI"
      },
      "outputs": [],
      "execution_count": null
    },
    {
      "cell_type": "code",
      "source": [
        "batch_size = 128\n",
        "\n",
        "class Dataloaders:\n",
        "    \"\"\"Dataloaders contains train_loader, test_loader, and valid_loader for training and evaluation.\"\"\"\n",
        "\n",
        "    def __init__(self, train_set, valid_set, test_set, en_tokenizer, fr_tokenizer):\n",
        "        # Initialize datasets\n",
        "        self.train_dataset = TranslationDataset(train_set, en_tokenizer, fr_tokenizer)\n",
        "        self.valid_dataset = TranslationDataset(valid_set, en_tokenizer, fr_tokenizer)\n",
        "        self.test_dataset  = TranslationDataset(test_set, en_tokenizer, fr_tokenizer)\n",
        "\n",
        "        # Create DataLoaders for each dataset\n",
        "        self.train_loader = torch.utils.data.DataLoader(self.train_dataset,\n",
        "                                                         batch_size=batch_size,\n",
        "                                                         shuffle=True,\n",
        "                                                         collate_fn=pad_sequence)\n",
        "\n",
        "        self.valid_loader = torch.utils.data.DataLoader(self.valid_dataset,\n",
        "                                                         batch_size=batch_size,\n",
        "                                                         shuffle=False,\n",
        "                                                         collate_fn=pad_sequence)\n",
        "\n",
        "        self.test_loader = torch.utils.data.DataLoader(self.test_dataset,\n",
        "                                                        batch_size=batch_size,\n",
        "                                                        shuffle=False,\n",
        "                                                        collate_fn=pad_sequence)\n",
        "\n",
        "# Instantiate the Dataloaders\n",
        "dataloaders = Dataloaders(train_set, valid_set, test_set, en_sp, fr_sp)\n",
        "\n",
        "# Example usage: Check lengths of each DataLoader\n",
        "print(\"Number of batches in train loader:\", len(dataloaders.train_loader))\n",
        "print(\"Number of batches in valid loader:\", len(dataloaders.valid_loader))\n",
        "print(\"Number of batches in test loader:\", len(dataloaders.test_loader))\n",
        "\n",
        "# Example of accessing a batch from the train loader\n",
        "for src, trg in dataloaders.train_loader:\n",
        "    print(\"Source batch shape:\", src.shape)\n",
        "    print(\"Target batch shape:\", trg.shape)\n",
        "    break  # Remove this break to see more batches\n"
      ],
      "metadata": {
        "id": "WgeG2xQwFmIZ",
        "execution": {
          "iopub.status.busy": "2024-10-02T17:19:59.280666Z",
          "iopub.execute_input": "2024-10-02T17:19:59.280981Z",
          "iopub.status.idle": "2024-10-02T17:19:59.726977Z",
          "shell.execute_reply.started": "2024-10-02T17:19:59.280933Z",
          "shell.execute_reply": "2024-10-02T17:19:59.725885Z"
        },
        "trusted": true,
        "outputId": "375d54b3-f373-4076-e591-a93363fdacea"
      },
      "outputs": [
        {
          "name": "stdout",
          "text": "Number of batches in train loader: 235\nNumber of batches in valid loader: 7\nNumber of batches in test loader: 11\nSource batch shape: torch.Size([128, 50])\nTarget batch shape: torch.Size([128, 50])\n",
          "output_type": "stream"
        }
      ],
      "execution_count": null
    },
    {
      "cell_type": "markdown",
      "source": [
        "# Transformer Model"
      ],
      "metadata": {
        "id": "6t5Bkt_LOu0p"
      }
    },
    {
      "cell_type": "code",
      "source": [
        "import torch\n",
        "import torch.nn as nn\n",
        "import math\n",
        "\n",
        "class MultiHeadedAttention(nn.Module):\n",
        "    def __init__(self, h, d_embed, dropout=0.0):\n",
        "        super(MultiHeadedAttention, self).__init__()\n",
        "        assert d_embed % h == 0, \"Embedding dimension must be divisible by number of heads.\"\n",
        "        self.d_k = d_embed // h  # Dimension of each head\n",
        "        self.d_embed = d_embed\n",
        "        self.h = h\n",
        "\n",
        "        # Linear layers for query, key, and value projections\n",
        "        self.WQ = nn.Linear(d_embed, d_embed)\n",
        "        self.WK = nn.Linear(d_embed, d_embed)\n",
        "        self.WV = nn.Linear(d_embed, d_embed)\n",
        "\n",
        "        # Final linear layer\n",
        "        self.linear = nn.Linear(d_embed, d_embed)\n",
        "        self.dropout = nn.Dropout(dropout)\n",
        "\n",
        "    def forward(self, x_query, x_key, x_value, mask=None):\n",
        "        nbatch = x_query.size(0)  # Get batch size\n",
        "\n",
        "        # Linear projections and reshape for multi-head attention\n",
        "        query = self.WQ(x_query).view(nbatch, -1, self.h, self.d_k).transpose(1, 2)\n",
        "        key = self.WK(x_key).view(nbatch, -1, self.h, self.d_k).transpose(1, 2)\n",
        "        value = self.WV(x_value).view(nbatch, -1, self.h, self.d_k).transpose(1, 2)\n",
        "\n",
        "        # Compute attention scores\n",
        "        scores = torch.matmul(query, key.transpose(-2, -1)) / math.sqrt(self.d_k)\n",
        "\n",
        "        # Apply mask if provided\n",
        "        if mask is not None:\n",
        "            scores = scores.masked_fill(mask, float('-inf'))\n",
        "\n",
        "        # Softmax to get attention weights\n",
        "        p_atten = torch.nn.functional.softmax(scores, dim=-1)\n",
        "        p_atten = self.dropout(p_atten)\n",
        "\n",
        "        # Compute the output as a weighted sum of the values\n",
        "        x = torch.matmul(p_atten, value)\n",
        "\n",
        "        # Concatenate the heads and pass through final linear layer\n",
        "        x = x.transpose(1, 2).contiguous().view(nbatch, -1, self.d_embed)\n",
        "        return self.linear(x)  # Final output\n",
        "\n",
        "# Example of how to instantiate and use the MultiHeadedAttention class\n",
        "if __name__ == \"__main__\":\n",
        "    # Parameters\n",
        "    h = 8  # Number of attention heads\n",
        "    d_embed = 512  # Embedding dimension\n",
        "    batch_size = 32  # Example batch size\n",
        "    seq_len = 50  # Example sequence length\n",
        "\n",
        "    # Create an instance of MultiHeadedAttention\n",
        "    mha = MultiHeadedAttention(h, d_embed)\n",
        "\n",
        "    # Example input tensors\n",
        "    x_query = torch.randn(batch_size, seq_len, d_embed)  # Shape: (batch_size, seq_len, d_embed)\n",
        "    x_key = torch.randn(batch_size, seq_len, d_embed)\n",
        "    x_value = torch.randn(batch_size, seq_len, d_embed)\n",
        "\n",
        "    # Forward pass\n",
        "    output = mha(x_query, x_key, x_value)\n",
        "    print(\"Output shape:\", output.shape)  # Should be (batch_size, seq_len, d_embed)\n"
      ],
      "metadata": {
        "execution": {
          "iopub.status.busy": "2024-10-02T17:19:59.728625Z",
          "iopub.execute_input": "2024-10-02T17:19:59.728926Z",
          "iopub.status.idle": "2024-10-02T17:19:59.8085Z",
          "shell.execute_reply.started": "2024-10-02T17:19:59.728893Z",
          "shell.execute_reply": "2024-10-02T17:19:59.807346Z"
        },
        "trusted": true,
        "id": "KupkTJ16fXCI",
        "outputId": "8dddfe4e-cd79-4b5d-8983-51b33386db7e"
      },
      "outputs": [
        {
          "name": "stdout",
          "text": "Output shape: torch.Size([32, 50, 512])\n",
          "output_type": "stream"
        }
      ],
      "execution_count": null
    },
    {
      "cell_type": "code",
      "source": [
        "import torch\n",
        "import torch.nn as nn\n",
        "\n",
        "class ResidualConnection(nn.Module):\n",
        "    \"\"\"Residual connection: x + dropout(sublayer(layernorm(x)))\"\"\"\n",
        "\n",
        "    def __init__(self, dim, dropout):\n",
        "        super().__init__()\n",
        "        self.drop = nn.Dropout(dropout)\n",
        "        self.norm = nn.LayerNorm(dim)\n",
        "\n",
        "    def forward(self, x, sublayer):\n",
        "        \"\"\"Applies the residual connection with a given sublayer.\"\"\"\n",
        "        return x + self.drop(sublayer(self.norm(x)))\n",
        "\n",
        "# Example of how to use the ResidualConnection class\n",
        "if __name__ == \"__main__\":\n",
        "    # Parameters\n",
        "    dim = 256  # Example embedding dimension\n",
        "    dropout_rate = 0.1  # Example dropout rate\n",
        "\n",
        "    # Create an instance of ResidualConnection\n",
        "    residual_connection = ResidualConnection(dim, dropout_rate)\n",
        "\n",
        "    # Example input tensor\n",
        "    x = torch.randn(32, 50, dim)  # Shape: (batch_size, seq_len, dim)\n",
        "\n",
        "    # Example sublayer (simple feedforward layer for demonstration)\n",
        "    class SimpleSublayer(nn.Module):\n",
        "        def __init__(self, dim):\n",
        "            super().__init__()\n",
        "            self.linear = nn.Linear(dim, dim)\n",
        "\n",
        "        def forward(self, x):\n",
        "            return self.linear(x)\n",
        "\n",
        "    # Instantiate a simple sublayer\n",
        "    sublayer = SimpleSublayer(dim)\n",
        "\n",
        "    # Forward pass through the residual connection\n",
        "    output = residual_connection(x, sublayer)\n",
        "    print(\"Output shape:\", output.shape)  # Should be (batch_size, seq_len, dim)\n"
      ],
      "metadata": {
        "execution": {
          "iopub.status.busy": "2024-10-02T17:19:59.810629Z",
          "iopub.execute_input": "2024-10-02T17:19:59.811016Z",
          "iopub.status.idle": "2024-10-02T17:19:59.832354Z",
          "shell.execute_reply.started": "2024-10-02T17:19:59.810976Z",
          "shell.execute_reply": "2024-10-02T17:19:59.831251Z"
        },
        "trusted": true,
        "id": "4gMMeJqMfXCI",
        "outputId": "2f5188c6-8848-4b1d-f435-52884e951f02"
      },
      "outputs": [
        {
          "name": "stdout",
          "text": "Output shape: torch.Size([32, 50, 256])\n",
          "output_type": "stream"
        }
      ],
      "execution_count": null
    },
    {
      "cell_type": "code",
      "source": [
        "import torch\n",
        "import torch.nn as nn\n",
        "\n",
        "class Encoder(nn.Module):\n",
        "    \"\"\"Encoder = token embedding + positional embedding -> a stack of N EncoderBlocks -> layer norm\"\"\"\n",
        "\n",
        "    def __init__(self, config):\n",
        "        super().__init__()\n",
        "        self.d_embed = config.d_embed\n",
        "        self.tok_embed = nn.Embedding(config.encoder_vocab_size, self.d_embed)\n",
        "        self.pos_embed = nn.Parameter(torch.zeros(1, config.max_seq_len, self.d_embed))\n",
        "        self.encoder_blocks = nn.ModuleList([EncoderBlock(config) for _ in range(config.N_encoder)])\n",
        "        self.dropout = nn.Dropout(config.dropout)\n",
        "        self.norm = nn.LayerNorm(self.d_embed)\n",
        "\n",
        "    def forward(self, input, mask=None):\n",
        "        # Token and positional embeddings\n",
        "        x = self.tok_embed(input)\n",
        "        x_pos = self.pos_embed[:, :x.size(1), :]\n",
        "        x = self.dropout(x + x_pos)\n",
        "\n",
        "        # Pass through each encoder block\n",
        "        for layer in self.encoder_blocks:\n",
        "            x = layer(x, mask)\n",
        "\n",
        "        return self.norm(x)\n",
        "\n",
        "class EncoderBlock(nn.Module):\n",
        "    \"\"\"EncoderBlock: self-attention -> position-wise fully connected feed-forward layer\"\"\"\n",
        "\n",
        "    def __init__(self, config):\n",
        "        super(EncoderBlock, self).__init__()\n",
        "        self.atten = MultiHeadedAttention(config.h, config.d_embed, config.dropout)\n",
        "        self.feed_forward = nn.Sequential(\n",
        "            nn.Linear(config.d_embed, config.d_ff),\n",
        "            nn.ReLU(),\n",
        "            nn.Dropout(config.dropout),\n",
        "            nn.Linear(config.d_ff, config.d_embed)\n",
        "        )\n",
        "        self.residual1 = ResidualConnection(config.d_embed, config.dropout)\n",
        "        self.residual2 = ResidualConnection(config.d_embed, config.dropout)\n",
        "\n",
        "    def forward(self, x, mask=None):\n",
        "        # Self-attention with residual connection\n",
        "        x = self.residual1(x, lambda x: self.atten(x, x, x, mask=mask))\n",
        "        # Feed-forward layer with residual connection\n",
        "        return self.residual2(x, self.feed_forward)\n",
        "\n",
        "# Example Config Class for Encoder\n",
        "class Config:\n",
        "    def __init__(self):\n",
        "        self.d_embed = 512       # Embedding dimension\n",
        "        self.encoder_vocab_size = 10000  # Size of the encoder vocabulary\n",
        "        self.max_seq_len = 50    # Maximum sequence length\n",
        "        self.N_encoder = 6       # Number of encoder blocks\n",
        "        self.dropout = 0.1       # Dropout rate\n",
        "        self.d_ff = 512          # Dimension of the feed-forward layer\n",
        "        self.h = 8               # Number of attention heads\n",
        "\n",
        "# Example of how to instantiate and use the Encoder\n",
        "if __name__ == \"__main__\":\n",
        "    config = Config()\n",
        "    encoder = Encoder(config)\n",
        "\n",
        "    # Example input tensor (batch_size, seq_len)\n",
        "    input_tensor = torch.randint(0, config.encoder_vocab_size, (32, config.max_seq_len))  # Random input\n",
        "    mask = None  # Placeholder for a potential mask\n",
        "\n",
        "    # Forward pass\n",
        "    output = encoder(input_tensor, mask)\n",
        "    print(\"Encoder output shape:\", output.shape)  # Should be (batch_size, seq_len, d_embed)\n"
      ],
      "metadata": {
        "execution": {
          "iopub.status.busy": "2024-10-02T17:19:59.833948Z",
          "iopub.execute_input": "2024-10-02T17:19:59.834323Z",
          "iopub.status.idle": "2024-10-02T17:20:00.286434Z",
          "shell.execute_reply.started": "2024-10-02T17:19:59.834258Z",
          "shell.execute_reply": "2024-10-02T17:20:00.285366Z"
        },
        "trusted": true,
        "id": "TcyFmOgHfXCJ",
        "outputId": "3ebaaaa5-1388-44be-a44d-20edcfc6edb1"
      },
      "outputs": [
        {
          "name": "stdout",
          "text": "Encoder output shape: torch.Size([32, 50, 512])\n",
          "output_type": "stream"
        }
      ],
      "execution_count": null
    },
    {
      "cell_type": "code",
      "source": [
        "import torch\n",
        "import torch.nn as nn\n",
        "\n",
        "class Decoder(nn.Module):\n",
        "    \"\"\"Decoder = token embedding + positional embedding -> a stack of N DecoderBlocks -> fully-connected layer\"\"\"\n",
        "\n",
        "    def __init__(self, config):\n",
        "        super().__init__()\n",
        "        self.d_embed = config.d_embed\n",
        "        self.tok_embed = nn.Embedding(config.decoder_vocab_size, self.d_embed)\n",
        "        self.pos_embed = nn.Parameter(torch.zeros(1, config.max_seq_len, self.d_embed))\n",
        "        self.dropout = nn.Dropout(config.dropout)\n",
        "        self.decoder_blocks = nn.ModuleList([DecoderBlock(config) for _ in range(config.N_decoder)])\n",
        "        self.norm = nn.LayerNorm(self.d_embed)\n",
        "        self.linear = nn.Linear(self.d_embed, config.decoder_vocab_size)\n",
        "\n",
        "    def future_mask(self, seq_len):\n",
        "        \"\"\"Mask out tokens at future positions\"\"\"\n",
        "        mask = (torch.triu(torch.ones(seq_len, seq_len, requires_grad=False), diagonal=1) != 0).to(torch.device('cuda' if torch.cuda.is_available() else 'cpu'))\n",
        "        return mask.view(1, 1, seq_len, seq_len)\n",
        "\n",
        "    def forward(self, memory, src_mask, trg, trg_pad_mask):\n",
        "        seq_len = trg.size(1)\n",
        "        trg_mask = torch.logical_or(trg_pad_mask, self.future_mask(seq_len))\n",
        "        x = self.tok_embed(trg) + self.pos_embed[:, :trg.size(1), :]\n",
        "        x = self.dropout(x)\n",
        "\n",
        "        for layer in self.decoder_blocks:\n",
        "            x = layer(memory, src_mask, x, trg_mask)\n",
        "\n",
        "        x = self.norm(x)\n",
        "        logits = self.linear(x)\n",
        "        return logits\n",
        "\n",
        "class DecoderBlock(nn.Module):\n",
        "    \"\"\"DecoderBlock: self-attention -> position-wise feed-forward layer\"\"\"\n",
        "\n",
        "    def __init__(self, config):\n",
        "        super().__init__()\n",
        "        self.atten1 = MultiHeadedAttention(config.h, config.d_embed)  # Self-attention\n",
        "        self.atten2 = MultiHeadedAttention(config.h, config.d_embed)  # Cross-attention\n",
        "        self.feed_forward = nn.Sequential(\n",
        "            nn.Linear(config.d_embed, config.d_ff),\n",
        "            nn.ReLU(),\n",
        "            nn.Dropout(config.dropout),\n",
        "            nn.Linear(config.d_ff, config.d_embed)\n",
        "        )\n",
        "        self.residuals = nn.ModuleList([ResidualConnection(config.d_embed, config.dropout) for _ in range(3)])\n",
        "\n",
        "    def forward(self, memory, src_mask, decoder_layer_input, trg_mask):\n",
        "        # Self-attention\n",
        "        y = self.residuals[0](decoder_layer_input, lambda y: self.atten1(y, y, y, mask=trg_mask))\n",
        "        # Cross-attention\n",
        "        y = self.residuals[1](y, lambda y: self.atten2(y, memory, memory, mask=src_mask))\n",
        "        # Feed-forward layer\n",
        "        return self.residuals[2](y, self.feed_forward)\n"
      ],
      "metadata": {
        "execution": {
          "iopub.status.busy": "2024-10-02T17:20:00.291002Z",
          "iopub.execute_input": "2024-10-02T17:20:00.291569Z",
          "iopub.status.idle": "2024-10-02T17:20:00.310369Z",
          "shell.execute_reply.started": "2024-10-02T17:20:00.291522Z",
          "shell.execute_reply": "2024-10-02T17:20:00.309335Z"
        },
        "trusted": true,
        "id": "2xKIp_VnfXCJ"
      },
      "outputs": [],
      "execution_count": null
    },
    {
      "cell_type": "code",
      "source": [
        "\n",
        "class Transformer(nn.Module):\n",
        "    def __init__(self, encoder, decoder):\n",
        "        super().__init__()\n",
        "        self.encoder = encoder\n",
        "        self.decoder = decoder\n",
        "\n",
        "    def forward(self, src, src_mask, trg, trg_pad_mask):\n",
        "        return self.decoder(self.encoder(src, src_mask), src_mask, trg, trg_pad_mask)"
      ],
      "metadata": {
        "pycharm": {
          "name": "#%%\n"
        },
        "id": "AWvU3VeM5ToD",
        "execution": {
          "iopub.status.busy": "2024-10-02T17:20:00.312Z",
          "iopub.execute_input": "2024-10-02T17:20:00.312386Z",
          "iopub.status.idle": "2024-10-02T17:20:00.324008Z",
          "shell.execute_reply.started": "2024-10-02T17:20:00.312344Z",
          "shell.execute_reply": "2024-10-02T17:20:00.323113Z"
        },
        "trusted": true
      },
      "outputs": [],
      "execution_count": null
    },
    {
      "cell_type": "code",
      "source": [
        "from dataclasses import dataclass\n",
        "\n",
        "@dataclass\n",
        "class ModelConfig:\n",
        "    encoder_vocab_size: int\n",
        "    decoder_vocab_size: int\n",
        "    d_embed: int\n",
        "    d_ff: int\n",
        "    h: int\n",
        "    N_encoder: int\n",
        "    N_decoder: int\n",
        "    max_seq_len: int\n",
        "    dropout: float\n",
        "\n",
        "def make_model(config):\n",
        "    model = Transformer(Encoder(config), Decoder(config)).to(DEVICE)\n",
        "\n",
        "    # Initialize model parameters\n",
        "    for p in model.parameters():\n",
        "        if p.dim() > 1:\n",
        "            nn.init.xavier_uniform_(p)\n",
        "\n",
        "    return model\n",
        "\n",
        "# Example of how to instantiate ModelConfig and create the model\n",
        "if __name__ == \"__main__\":\n",
        "    config = ModelConfig(\n",
        "        encoder_vocab_size=10000,\n",
        "        decoder_vocab_size=8000,\n",
        "        d_embed=512,\n",
        "        d_ff=512,\n",
        "        h=8,\n",
        "        N_encoder=6,\n",
        "        N_decoder=6,\n",
        "        max_seq_len=50,\n",
        "        dropout=0.1\n",
        "    )\n",
        "\n",
        "    model = make_model(config)\n",
        "    print(\"Model created with configuration:\", config)\n"
      ],
      "metadata": {
        "execution": {
          "iopub.status.busy": "2024-10-02T17:20:00.32512Z",
          "iopub.execute_input": "2024-10-02T17:20:00.325544Z",
          "iopub.status.idle": "2024-10-02T17:20:00.747868Z",
          "shell.execute_reply.started": "2024-10-02T17:20:00.325512Z",
          "shell.execute_reply": "2024-10-02T17:20:00.746751Z"
        },
        "trusted": true,
        "id": "skU6p5xTfXCJ",
        "outputId": "57e00c55-534e-43e7-a8b1-4cafe5681769"
      },
      "outputs": [
        {
          "name": "stdout",
          "text": "Model created with configuration: ModelConfig(encoder_vocab_size=10000, decoder_vocab_size=8000, d_embed=512, d_ff=512, h=8, N_encoder=6, N_decoder=6, max_seq_len=50, dropout=0.1)\n",
          "output_type": "stream"
        }
      ],
      "execution_count": null
    },
    {
      "cell_type": "markdown",
      "source": [
        "# Training and evaluation helper functions"
      ],
      "metadata": {
        "id": "V7Xdzd9x8z-C"
      }
    },
    {
      "cell_type": "code",
      "source": [
        "def make_batch_input(src, trg):\n",
        "    \"\"\"\n",
        "    Prepares the input for the model during training.\n",
        "\n",
        "    Args:\n",
        "        src: Source tensor (batch_size, src_seq_len).\n",
        "        trg: Target tensor (batch_size, trg_seq_len).\n",
        "\n",
        "    Returns:\n",
        "        src: Tensor of source sequences (moved to DEVICE).\n",
        "        trg_in: Target input tensor (moved to DEVICE, excluding the last token).\n",
        "        trg_out: Target output tensor (moved to DEVICE, excluding the first token).\n",
        "        src_pad_mask: Padding mask for the source sequences.\n",
        "        trg_pad_mask: Padding mask for the target input sequences.\n",
        "    \"\"\"\n",
        "    # Move tensors to the specified device\n",
        "    src = src.to(DEVICE)\n",
        "    trg_in = trg[:, :-1].to(DEVICE)  # Exclude the last token for input\n",
        "    trg_out = trg[:, 1:].contiguous().view(-1).to(DEVICE)  # Exclude the first token for output\n",
        "\n",
        "    # Create padding masks\n",
        "    src_pad_mask = (src == PAD).view(src.size(0), 1, 1, src.size(1))  # Shape: (batch_size, 1, 1, src_seq_len)\n",
        "    trg_pad_mask = (trg_in == PAD).view(trg_in.size(0), 1, 1, trg_in.size(1))  # Shape: (batch_size, 1, 1, trg_seq_len)\n",
        "\n",
        "    return src, trg_in, trg_out, src_pad_mask, trg_pad_mask\n"
      ],
      "metadata": {
        "execution": {
          "iopub.status.busy": "2024-10-02T17:20:00.749327Z",
          "iopub.execute_input": "2024-10-02T17:20:00.749744Z",
          "iopub.status.idle": "2024-10-02T17:20:00.758717Z",
          "shell.execute_reply.started": "2024-10-02T17:20:00.749694Z",
          "shell.execute_reply": "2024-10-02T17:20:00.757648Z"
        },
        "trusted": true,
        "id": "qKahlIsdfXCJ"
      },
      "outputs": [],
      "execution_count": null
    },
    {
      "cell_type": "code",
      "source": [
        "def make_batch_input(x, y):\n",
        "        src = x.to(DEVICE)\n",
        "        trg_in = y[:, :-1].to(DEVICE)\n",
        "        trg_out = y[:, 1:].contiguous().view(-1).to(DEVICE)\n",
        "        src_pad_mask = (src == PAD).view(src.size(0), 1, 1, src.size(-1))\n",
        "        trg_pad_mask = (trg_in == PAD).view(trg_in.size(0), 1, 1, trg_in.size(-1))\n",
        "        return src, trg_in, trg_out, src_pad_mask, trg_pad_mask"
      ],
      "metadata": {
        "pycharm": {
          "name": "#%%\n"
        },
        "id": "dUsGrq6fOKbC",
        "execution": {
          "iopub.status.busy": "2024-10-02T17:20:00.760152Z",
          "iopub.execute_input": "2024-10-02T17:20:00.760586Z",
          "iopub.status.idle": "2024-10-02T17:20:00.774218Z",
          "shell.execute_reply.started": "2024-10-02T17:20:00.760541Z",
          "shell.execute_reply": "2024-10-02T17:20:00.773389Z"
        },
        "trusted": true
      },
      "outputs": [],
      "execution_count": null
    },
    {
      "cell_type": "code",
      "source": [
        "import numpy as np\n",
        "import torch\n",
        "from tqdm import tqdm\n",
        "\n",
        "def train_epoch(model, dataloaders, optimizer, loss_fn, scheduler, device):\n",
        "    model.train()\n",
        "    grad_norm_clip = 1.0\n",
        "    losses, acc, count = [], 0, 0\n",
        "    num_batches = len(dataloaders.train_loader)\n",
        "\n",
        "    pbar = tqdm(enumerate(dataloaders.train_loader), total=num_batches)\n",
        "    for idx, (src, trg) in pbar:\n",
        "        optimizer.zero_grad()\n",
        "\n",
        "        # Prepare the inputs and targets\n",
        "        src, trg_in, trg_out, src_pad_mask, trg_pad_mask = make_batch_input(src, trg)\n",
        "\n",
        "        # Forward pass\n",
        "        pred = model(src, src_pad_mask, trg_in, trg_pad_mask).to(device)\n",
        "\n",
        "        # Reshape predictions for loss computation\n",
        "        pred = pred.view(-1, pred.size(-1))\n",
        "\n",
        "        # Compute loss\n",
        "        loss = loss_fn(pred, trg_out).to(device)\n",
        "        loss.backward()\n",
        "\n",
        "        # Gradient clipping\n",
        "        torch.nn.utils.clip_grad_norm_(model.parameters(), grad_norm_clip)\n",
        "\n",
        "        # Optimizer step\n",
        "        optimizer.step()\n",
        "        scheduler.step()\n",
        "\n",
        "        # Store the loss\n",
        "        losses.append(loss.item())\n",
        "\n",
        "        # Report progress every 50 batches\n",
        "        if idx > 0 and idx % 50 == 0:\n",
        "            pbar.set_description(f'train loss={loss.item():.3f}, lr={scheduler.get_last_lr()[0]:.5f}')\n",
        "\n",
        "    return np.mean(losses)\n"
      ],
      "metadata": {
        "execution": {
          "iopub.status.busy": "2024-10-02T17:20:00.77544Z",
          "iopub.execute_input": "2024-10-02T17:20:00.775743Z",
          "iopub.status.idle": "2024-10-02T17:20:00.787702Z",
          "shell.execute_reply.started": "2024-10-02T17:20:00.775711Z",
          "shell.execute_reply": "2024-10-02T17:20:00.786653Z"
        },
        "trusted": true,
        "id": "O6UzbOtAfXCK"
      },
      "outputs": [],
      "execution_count": null
    },
    {
      "cell_type": "code",
      "source": [
        "def train(model, dataloaders, epochs, optimizer, loss_fn, scheduler, device, early_stop_count=5):\n",
        "    \"\"\"Train the model and validate after each epoch.\"\"\"\n",
        "    best_valid_loss = float('inf')\n",
        "    for ep in range(epochs):\n",
        "        train_loss = train_epoch(model, dataloaders, optimizer, loss_fn, scheduler, device)\n",
        "        valid_loss = validate(model, dataloaders.valid_loader, loss_fn, device)\n",
        "\n",
        "        print(f'Epoch {ep + 1}: train_loss={train_loss:.5f}, valid_loss={valid_loss:.5f}')\n",
        "\n",
        "        # Check for improvement in validation loss\n",
        "        if valid_loss < best_valid_loss:\n",
        "            best_valid_loss = valid_loss\n",
        "            early_stop_count = 5  # Reset early stopping counter\n",
        "            # You might want to save the model here\n",
        "            # torch.save(model.state_dict(), 'best_model.pth')\n",
        "        else:\n",
        "            early_stop_count -= 1\n",
        "            if early_stop_count <= 0:\n",
        "                print(\"Early stopping triggered.\")\n",
        "                break  # Stop training if validation loss hasn't improved\n",
        "\n",
        "    return train_loss, valid_loss\n"
      ],
      "metadata": {
        "execution": {
          "iopub.status.busy": "2024-10-02T17:20:00.788903Z",
          "iopub.execute_input": "2024-10-02T17:20:00.78925Z",
          "iopub.status.idle": "2024-10-02T17:20:00.803246Z",
          "shell.execute_reply.started": "2024-10-02T17:20:00.789215Z",
          "shell.execute_reply": "2024-10-02T17:20:00.802321Z"
        },
        "trusted": true,
        "id": "DKLJ0fj1fXCK"
      },
      "outputs": [],
      "execution_count": null
    },
    {
      "cell_type": "code",
      "source": [
        "def validate(model, dataloader, loss_fn, device):\n",
        "    \"\"\"Compute the validation loss.\"\"\"\n",
        "    model.eval()  # Set the model to evaluation mode\n",
        "    losses = []\n",
        "\n",
        "    with torch.no_grad():  # Disable gradient calculation\n",
        "        for x, y in dataloader:\n",
        "            # Prepare the inputs and targets\n",
        "            src, trg_in, trg_out, src_pad_mask, trg_pad_mask = make_batch_input(x, y)\n",
        "\n",
        "            # Forward pass\n",
        "            pred = model(src, src_pad_mask, trg_in, trg_pad_mask).to(device)\n",
        "\n",
        "            # Reshape predictions for loss computation\n",
        "            pred = pred.view(-1, pred.size(-1))\n",
        "\n",
        "            # Compute loss and store it\n",
        "            loss = loss_fn(pred, trg_out).item()\n",
        "            losses.append(loss)\n",
        "\n",
        "    return np.mean(losses)  # Return the average loss over the validation set\n"
      ],
      "metadata": {
        "execution": {
          "iopub.status.busy": "2024-10-02T17:20:00.804394Z",
          "iopub.execute_input": "2024-10-02T17:20:00.804686Z",
          "iopub.status.idle": "2024-10-02T17:20:00.818716Z",
          "shell.execute_reply.started": "2024-10-02T17:20:00.804654Z",
          "shell.execute_reply": "2024-10-02T17:20:00.817737Z"
        },
        "trusted": true,
        "id": "8W-KgKU0fXCK"
      },
      "outputs": [],
      "execution_count": null
    },
    {
      "cell_type": "code",
      "source": [
        "def translate(model, x, max_seq_len):\n",
        "    \"\"\"Translate source sentences into the target language, without looking at the answer.\"\"\"\n",
        "    with torch.no_grad():\n",
        "        dB = x.size(0)  # Batch size\n",
        "        # Initialize the target sequence with the BOS token\n",
        "        y = torch.tensor([[BOS]] * dB).to(DEVICE)  # Shape: (dB, 1)\n",
        "\n",
        "        # Create source padding mask\n",
        "        x_pad_mask = (x == PAD).view(dB, 1, 1, x.size(1)).to(DEVICE)\n",
        "\n",
        "        # Encode the source sentences\n",
        "        memory = model.encoder(x, x_pad_mask)\n",
        "\n",
        "        for i in range(max_seq_len - 1):  # max_seq_len - 1 because we already have BOS\n",
        "            # Create target padding mask\n",
        "            y_pad_mask = (y == PAD).view(dB, 1, 1, y.size(1)).to(DEVICE)\n",
        "\n",
        "            # Decode and get the logits\n",
        "            logits = model.decoder(memory, x_pad_mask, y, y_pad_mask)\n",
        "\n",
        "            # Get the last output's token indices\n",
        "            last_output = logits[:, -1, :].argmax(-1).view(dB, 1)  # Shape: (dB, 1)\n",
        "\n",
        "            # Concatenate the last output to the target sequence\n",
        "            y = torch.cat((y, last_output), dim=1)  # Shape: (dB, seq_len)\n",
        "\n",
        "        return y\n"
      ],
      "metadata": {
        "execution": {
          "iopub.status.busy": "2024-10-02T17:20:00.82006Z",
          "iopub.execute_input": "2024-10-02T17:20:00.820421Z",
          "iopub.status.idle": "2024-10-02T17:20:00.831091Z",
          "shell.execute_reply.started": "2024-10-02T17:20:00.820385Z",
          "shell.execute_reply": "2024-10-02T17:20:00.830116Z"
        },
        "trusted": true,
        "id": "1UCA_1onfXCK"
      },
      "outputs": [],
      "execution_count": null
    },
    {
      "cell_type": "markdown",
      "source": [
        "# Training"
      ],
      "metadata": {
        "id": "FtpVeM7Xzanz"
      }
    },
    {
      "cell_type": "code",
      "source": [
        "def remove_pad(sent):\n",
        "    \"\"\"Truncate the sentence if EOS is in it,\n",
        "    otherwise simply remove the padding tokens at the end.\"\"\"\n",
        "    if sent.count(EOS) > 0:\n",
        "        sent = sent[0:sent.index(EOS) + 1]\n",
        "    while sent and sent[-1] == PAD:\n",
        "        sent = sent[:-1]\n",
        "    return sent\n",
        "\n",
        "def decode_sentence(detokenizer, sentence_ids):\n",
        "    \"\"\"Convert a tokenized sentence (a list of numbers) to a literal string.\"\"\"\n",
        "    if not isinstance(sentence_ids, list):\n",
        "        sentence_ids = sentence_ids.tolist()\n",
        "    sentence_ids = remove_pad(sentence_ids)\n",
        "    return detokenizer.decode(sentence_ids).replace(\"<pad>\", \"\").strip()\n",
        "\n",
        "def evaluate(model, dataloader, detokenizer_en,detokenizer_fr, num_batch=None):\n",
        "    \"\"\"Evaluate the model and compute the BLEU score.\"\"\"\n",
        "    model.eval()\n",
        "    refs, cans, bleus = [], [], []\n",
        "\n",
        "    with torch.no_grad():\n",
        "        for idx, (x, y) in enumerate(dataloader):\n",
        "            src, trg_in, trg_out, src_pad_mask, trg_pad_mask = make_batch_input(x, y)\n",
        "            translation = translate(model, src,max_seq_len)\n",
        "            trg_out = trg_out.view(x.size(0), -1)\n",
        "\n",
        "            # Decode the target output and the model's translation\n",
        "            refs += [decode_sentence(detokenizer_fr, trg_out[i]) for i in range(len(src))]\n",
        "            cans += [decode_sentence(detokenizer_fr, translation[i]) for i in range(len(src))]\n",
        "\n",
        "            if num_batch and idx >= num_batch:\n",
        "                break\n",
        "\n",
        "        # Calculate BLEU score\n",
        "        bleus.append(sacrebleu.corpus_bleu(cans, [refs]).score)\n",
        "\n",
        "        # Print some examples\n",
        "        for i in range(min(3, len(src))):\n",
        "            print(f'src:  {decode_sentence(detokenizer_en, src[i])}')\n",
        "            print(f'trg:  {decode_sentence(detokenizer_fr, trg_out[i])}')\n",
        "            print(f'pred: {decode_sentence(detokenizer_fr, translation[i])}')\n",
        "\n",
        "    return np.mean(bleus)\n"
      ],
      "metadata": {
        "execution": {
          "iopub.status.busy": "2024-10-02T17:20:00.832485Z",
          "iopub.execute_input": "2024-10-02T17:20:00.832899Z",
          "iopub.status.idle": "2024-10-02T17:20:00.847777Z",
          "shell.execute_reply.started": "2024-10-02T17:20:00.832851Z",
          "shell.execute_reply": "2024-10-02T17:20:00.84674Z"
        },
        "trusted": true,
        "id": "ZOKmi5rTfXCK"
      },
      "outputs": [],
      "execution_count": null
    },
    {
      "cell_type": "code",
      "source": [
        "# Set device (assuming you want to use GPU if available)\n",
        "DEVICE = torch.device('cuda' if torch.cuda.is_available() else 'cpu')\n",
        "\n",
        "# Configuration for the model\n",
        "config = ModelConfig(\n",
        "    encoder_vocab_size=en_vocab_size,\n",
        "    decoder_vocab_size=fr_vocab_size,\n",
        "    d_embed=512,\n",
        "    d_ff=512,\n",
        "    h=8,\n",
        "    N_encoder=3,\n",
        "    N_decoder=3,\n",
        "    max_seq_len=max_seq_len,  # Make sure this matches the max_seq_len used in your data\n",
        "    dropout=0.1\n",
        ")\n",
        "\n",
        "# Initialize data loaders\n",
        "data_loaders = Dataloaders(train_set, valid_set, test_set, en_sp, fr_sp)\n",
        "\n",
        "# Calculate model size\n",
        "train_size = len(data_loaders.train_loader) * batch_size\n",
        "model = make_model(config)\n",
        "\n",
        "model.load_state_dict(torch.load(\"/kaggle/working/transformer.pt\", weights_only=True))\n",
        "\n",
        "model_size = sum(p.numel() for p in model.parameters())\n",
        "print(f'model_size: {model_size}, train_set_size: {train_size}')\n",
        "\n",
        "# Define learning rate schedule\n",
        "warmup_steps = 3 * len(data_loaders.train_loader)\n",
        "lr_fn = lambda step: config.d_embed**(-0.5) * min([(step + 1)**(-0.5), (step + 1) * warmup_steps**(-1.5)])\n",
        "optimizer = torch.optim.Adam(model.parameters(), lr=0.5, betas=(0.9, 0.98), eps=1e-9)\n",
        "scheduler = torch.optim.lr_scheduler.LambdaLR(optimizer, lr_lambda=lr_fn)\n",
        "\n",
        "# Define loss function\n",
        "loss_fn = nn.CrossEntropyLoss(ignore_index=PAD)\n",
        "\n",
        "# Early stopping parameters\n",
        "early_stop_count = 2\n",
        "\n",
        "# Train the model\n",
        "train_loss, valid_loss = train(model, data_loaders, epochs=10, optimizer=optimizer, loss_fn=loss_fn, scheduler=scheduler, device=DEVICE)\n",
        "\n",
        "# Validate on the test set\n",
        "test_loss = validate(model, data_loaders.test_loader, loss_fn, DEVICE)\n",
        "\n",
        "# Evaluate on the datasets\n",
        "print(\"train set examples:\")\n",
        "train_bleu = evaluate(model, data_loaders.train_loader, en_sp,fr_sp)\n",
        "print(\"validation set examples:\")\n",
        "valid_bleu = evaluate(model, data_loaders.valid_loader, en_sp,fr_sp)\n",
        "print(\"test set examples:\")\n",
        "test_bleu = evaluate(model, data_loaders.test_loader, en_sp,fr_sp)\n",
        "\n",
        "# Print final results\n",
        "print(f'train_loss: {train_loss:.4f}, valid_loss: {valid_loss:.4f}, test_loss: {test_loss:.4f}')\n",
        "print(f'test_bleu: {test_bleu:.4f}, valid_bleu: {valid_bleu:.4f}, train_bleu: {train_bleu:.4f}')\n"
      ],
      "metadata": {
        "execution": {
          "iopub.status.busy": "2024-10-02T17:20:00.849024Z",
          "iopub.execute_input": "2024-10-02T17:20:00.849393Z",
          "iopub.status.idle": "2024-10-02T17:29:18.561301Z",
          "shell.execute_reply.started": "2024-10-02T17:20:00.849358Z",
          "shell.execute_reply": "2024-10-02T17:29:18.560209Z"
        },
        "trusted": true,
        "id": "lKIsV5p3fXCK",
        "outputId": "8afa6460-3804-42d6-f3b8-71eb139151c4"
      },
      "outputs": [
        {
          "name": "stdout",
          "text": "model_size: 25996096, train_set_size: 30016\n",
          "output_type": "stream"
        },
        {
          "name": "stderr",
          "text": "train loss=1.135, lr=0.00013: 100%|██████████| 938/938 [00:40<00:00, 23.15it/s]\n",
          "output_type": "stream"
        },
        {
          "name": "stdout",
          "text": "Epoch 1: train_loss=1.08573, valid_loss=3.23108\n",
          "output_type": "stream"
        },
        {
          "name": "stderr",
          "text": "train loss=1.135, lr=0.00027: 100%|██████████| 938/938 [00:40<00:00, 23.36it/s]\n",
          "output_type": "stream"
        },
        {
          "name": "stdout",
          "text": "Epoch 2: train_loss=1.13453, valid_loss=3.31480\n",
          "output_type": "stream"
        },
        {
          "name": "stderr",
          "text": "train loss=1.205, lr=0.00041: 100%|██████████| 938/938 [00:40<00:00, 23.25it/s]\n",
          "output_type": "stream"
        },
        {
          "name": "stdout",
          "text": "Epoch 3: train_loss=1.22442, valid_loss=3.38519\n",
          "output_type": "stream"
        },
        {
          "name": "stderr",
          "text": "train loss=1.159, lr=0.00036: 100%|██████████| 938/938 [00:40<00:00, 23.34it/s]\n",
          "output_type": "stream"
        },
        {
          "name": "stdout",
          "text": "Epoch 4: train_loss=1.23073, valid_loss=3.36393\n",
          "output_type": "stream"
        },
        {
          "name": "stderr",
          "text": "train loss=1.112, lr=0.00032: 100%|██████████| 938/938 [00:40<00:00, 23.32it/s]\n",
          "output_type": "stream"
        },
        {
          "name": "stdout",
          "text": "Epoch 5: train_loss=1.07980, valid_loss=3.39404\n",
          "output_type": "stream"
        },
        {
          "name": "stderr",
          "text": "train loss=1.032, lr=0.00030: 100%|██████████| 938/938 [00:40<00:00, 23.28it/s]\n",
          "output_type": "stream"
        },
        {
          "name": "stdout",
          "text": "Epoch 6: train_loss=0.94209, valid_loss=3.48226\nEarly stopping triggered.\ntrain set examples:\nsrc:  So, they rely on Coca-Cola in terms of its marketing, and what's the secret to their marketing?\ntrg:  Alors ils comptent sur Coca-Cola en termes de marketing. Et quel est le secret de leur marketing ?\npred: Donc, ils comptent sur Coca-Cola en termes de marketing. Et quel est le secret de leur marketing ?\nsrc:  And I'm going to draw it like this sometimes, just so I don't scare you.\ntrg:  Et je vais les représenter comme ça, de sorte à ce que je ne vous effraie pas.\npred: Je vais la dessiner parfois ce jeu, si je ne vous terrai pas de hoster.\nsrc:  And I remember thinking, \"This is exactly why, actually, we have to work even harder.\ntrg:  Et je me rappelle avoir pensé : « C'est exactement la raison pour laquelle nous devons travailler encore plus dur.\npred: Je me rappelle avoir pensé : « C'est exactement pourquoi nous devons vraiment travailler encore plus difficile.\nvalidation set examples:\nsrc:  So, the last example I have time to show you today is a music sequencing and live performance tool that we've built recently, in which Siftables act as sounds like lead, bass and drums.\ntrg:  Le dernier exemple que j'ai le temps de vous montrer aujourd'hui est un outil d'arrangement musical et de performance en direct que nous avons construit récemment, dans lequel les Siftables jouent le rôle de\npred: Donc, le dernier exemple, j'ai du temps pour vous montrer aujourd'hui, une musique de l'aide génétique et c'est un outil de haute mer, dans lequel on a mis comme ça semble tout comme le monde.\nsrc:  Each of these has four different variations, you get to choose which one you want to use.\ntrg:  Chacun d'entre eux possède quatre variations, on peut choisir celle qu'on veut utiliser.\npred: Chacun de ces variations a quatre variations, vous choisissez pour choisir lequel vous voulez utiliser.\nsrc:  And you can inject these sounds into a sequence that you can assemble into the pattern that you want.\ntrg:  Et on peut intégrer ces sons dans une séquence que l'on peut assembler au sein du schéma qu'on veut.\npred: Et vous pouvez injecter ces sons sons que vous pouvez s'assembler le schéma que vous voulez.\ntest set examples:\nsrc:  It also means tomorrow, after a day and a night.\ntrg:  Ça veut aussi dire demain, après un jour et une nuit.\npred: Cela signifie également demain, après une journée et une nuit.\nsrc:  The sun is coming up above the horizon. Sunrise.\ntrg:  Le soleil se lève au-dessus de l'horizon. L'aube.\npred: Le soleil vient au-dessus de l'horizon. Le Soleil.\nsrc:  A door. Put a plank inside the door, it's a door bolt.\ntrg:  Une porte. Une planche dans la porte, c'est un verrou.\npred: Une porte-monnaie. Mettre une planche à l'intérieur, elle est une porte.\ntrain_loss: 0.9421, valid_loss: 3.4823, test_loss: 3.0146\ntest_bleu: 17.1647, valid_bleu: 14.2817, train_bleu: 46.8097\n",
          "output_type": "stream"
        }
      ],
      "execution_count": null
    },
    {
      "cell_type": "code",
      "source": [
        "def translate_this_sentence(text: str):\n",
        "    'translate the source sentence in string formate into target language'\n",
        "    input = torch.tensor([[BOS] + en_sp.encode_as_ids(text)[0:max_seq_len-2] + [EOS]]).to(DEVICE)\n",
        "    output = translate(model, input,max_seq_len)\n",
        "    return decode_sentence(fr_sp, output[0])\n",
        "\n"
      ],
      "metadata": {
        "id": "6DHwo3xcYmXy",
        "colab": {
          "base_uri": "https://localhost:8080/",
          "height": 38
        },
        "outputId": "349e8712-520b-4df7-be58-06237de3e2d7",
        "execution": {
          "iopub.status.busy": "2024-10-02T18:25:04.58558Z",
          "iopub.execute_input": "2024-10-02T18:25:04.586033Z",
          "iopub.status.idle": "2024-10-02T18:25:04.748115Z",
          "shell.execute_reply.started": "2024-10-02T18:25:04.585991Z",
          "shell.execute_reply": "2024-10-02T18:25:04.747114Z"
        },
        "trusted": true
      },
      "outputs": [
        {
          "execution_count": 156,
          "output_type": "execute_result",
          "data": {
            "text/plain": "'Les mouches.'"
          },
          "metadata": {}
        }
      ],
      "execution_count": null
    },
    {
      "cell_type": "code",
      "source": [
        "# # After training the model\n",
        "# model_path = '/kaggle/working/transformer.pt'\n",
        "# torch.save(model.state_dict(), model_path)\n",
        "# print(f'Model saved to {model_path}')\n"
      ],
      "metadata": {
        "execution": {
          "iopub.status.busy": "2024-10-02T17:29:18.7757Z",
          "iopub.execute_input": "2024-10-02T17:29:18.77641Z",
          "iopub.status.idle": "2024-10-02T17:29:18.780635Z",
          "shell.execute_reply.started": "2024-10-02T17:29:18.776355Z",
          "shell.execute_reply": "2024-10-02T17:29:18.779564Z"
        },
        "trusted": true,
        "id": "n7tX_WlDfXCL"
      },
      "outputs": [],
      "execution_count": null
    },
    {
      "cell_type": "code",
      "source": [
        "def evaluate_and_save_bleu(model, dataloader, filename='testbleu.txt', num_batch=None):\n",
        "    model.eval()\n",
        "    refs, cans, bleus = [], [], []\n",
        "\n",
        "    with open(filename, 'w') as f:\n",
        "        with torch.no_grad():\n",
        "            for idx, (x, y) in enumerate(dataloader):\n",
        "                src, trg_in, trg_out, src_pad_mask, trg_pad_mask = make_batch_input(x, y)\n",
        "\n",
        "                translation = translate(model, src,50)\n",
        "\n",
        "                trg_out = trg_out.view(x.size(0), -1)\n",
        "\n",
        "                for i in range(len(src)):\n",
        "                    ref_sentence = decode_sentence(fr_sp, trg_out[i])\n",
        "                    gen_sentence = decode_sentence(fr_sp, translation[i])\n",
        "\n",
        "                    bleu_score = sacrebleu.corpus_bleu([gen_sentence], [[ref_sentence]]).score\n",
        "\n",
        "                    f.write(f\"{gen_sentence} {bleu_score:.2f}\\n\")\n",
        "\n",
        "                    refs.append(ref_sentence)\n",
        "                    cans.append(gen_sentence)\n",
        "\n",
        "                if num_batch and idx >= num_batch:\n",
        "                    break\n",
        "\n",
        "            overall_bleu_score = sacrebleu.corpus_bleu(cans, [refs]).score\n",
        "\n",
        "            print(f\"Overall BLEU score: {overall_bleu_score:.2f}\")\n",
        "            print(f\"BLEU scores for individual sentences saved to {filename}\")\n",
        "\n",
        "\n",
        "            return overall_bleu_score\n",
        "\n",
        "evaluate_and_save_bleu(model, data_loaders.test_loader, filename='testbleu.txt')"
      ],
      "metadata": {
        "execution": {
          "iopub.status.busy": "2024-10-02T17:29:18.785216Z",
          "iopub.execute_input": "2024-10-02T17:29:18.785866Z",
          "iopub.status.idle": "2024-10-02T17:29:31.979238Z",
          "shell.execute_reply.started": "2024-10-02T17:29:18.78582Z",
          "shell.execute_reply": "2024-10-02T17:29:31.978303Z"
        },
        "trusted": true,
        "id": "ERzUXt6JfXCL",
        "outputId": "bcd78480-cf1b-4ab2-bdc9-54a2ee3d0ea7"
      },
      "outputs": [
        {
          "name": "stdout",
          "text": "Overall BLEU score: 17.16\nBLEU scores for individual sentences saved to testbleu.txt\n",
          "output_type": "stream"
        },
        {
          "execution_count": 150,
          "output_type": "execute_result",
          "data": {
            "text/plain": "17.16474895524384"
          },
          "metadata": {}
        }
      ],
      "execution_count": null
    },
    {
      "cell_type": "code",
      "source": [
        "hyperparameter_sets = [\n",
        "    {'N_encoder': 3, 'N_decoder': 3, 'h': 8, 'd_embed': 512, 'dropout': 0.1},   # 512 / 8 = 64\n",
        "    {'N_encoder': 4, 'N_decoder': 4, 'h': 12, 'd_embed': 768, 'dropout': 0.2},  # 768 / 12 = 64\n",
        "    {'N_encoder': 2, 'N_decoder': 2, 'h': 8, 'd_embed': 256, 'dropout': 0.3}    # 256 / 8 = 32\n",
        "]"
      ],
      "metadata": {
        "execution": {
          "iopub.status.busy": "2024-10-02T17:29:31.980582Z",
          "iopub.execute_input": "2024-10-02T17:29:31.980998Z",
          "iopub.status.idle": "2024-10-02T17:29:31.987532Z",
          "shell.execute_reply.started": "2024-10-02T17:29:31.98095Z",
          "shell.execute_reply": "2024-10-02T17:29:31.986454Z"
        },
        "trusted": true,
        "id": "gR4d6XdofXCL"
      },
      "outputs": [],
      "execution_count": null
    },
    {
      "cell_type": "code",
      "source": [
        "for config_dict in hyperparameter_sets:\n",
        "    config = ModelConfig(\n",
        "        encoder_vocab_size=en_vocab_size,\n",
        "        decoder_vocab_size=fr_vocab_size,\n",
        "        d_embed=config_dict['d_embed'],\n",
        "        d_ff=config_dict['d_embed'],\n",
        "        h=config_dict['h'],\n",
        "        N_encoder=config_dict['N_encoder'],\n",
        "        N_decoder=config_dict['N_decoder'],\n",
        "        max_seq_len=max_seq_len,\n",
        "        dropout=config_dict['dropout']\n",
        "    )\n",
        "\n",
        "    model = make_model(config)\n",
        "    optimizer = torch.optim.Adam(model.parameters(), lr=0.5, betas=(0.9, 0.98), eps=1e-9)\n",
        "    scheduler = torch.optim.lr_scheduler.LambdaLR(optimizer, lr_lambda=lr_fn)\n",
        "\n",
        "    # Train model\n",
        "    train_loss, valid_loss = train(model, data_loaders, epochs=10, optimizer=optimizer, loss_fn=loss_fn, scheduler=scheduler, device=DEVICE)\n",
        "\n",
        "    # Evaluate on the test set\n",
        "    test_loss = validate(model, data_loaders.test_loader, loss_fn, DEVICE)\n",
        "\n",
        "    # BLEU scores\n",
        "    train_bleu = evaluate(model, data_loaders.train_loader, en_sp, fr_sp)\n",
        "    valid_bleu = evaluate(model, data_loaders.valid_loader, en_sp, fr_sp)\n",
        "    test_bleu = evaluate(model, data_loaders.test_loader, en_sp, fr_sp)\n",
        "\n",
        "    print(f\"Config: {config_dict}\")\n",
        "    print(f'train_loss: {train_loss:.4f}, valid_loss: {valid_loss:.4f}, test_loss: {test_loss:.4f}')\n",
        "    print(f'train_bleu: {train_bleu:.4f}, valid_bleu: {valid_bleu:.4f}, test_bleu: {test_bleu:.4f}')"
      ],
      "metadata": {
        "execution": {
          "iopub.status.busy": "2024-10-02T17:29:31.988713Z",
          "iopub.execute_input": "2024-10-02T17:29:31.989035Z",
          "iopub.status.idle": "2024-10-02T18:13:02.13418Z",
          "shell.execute_reply.started": "2024-10-02T17:29:31.988988Z",
          "shell.execute_reply": "2024-10-02T18:13:02.132972Z"
        },
        "trusted": true,
        "id": "dSYA6oolfXCL",
        "outputId": "604615fd-5d87-4cef-c2e6-03bff04aa19d"
      },
      "outputs": [
        {
          "name": "stderr",
          "text": "train loss=4.499, lr=0.00013: 100%|██████████| 938/938 [00:40<00:00, 23.26it/s]\n",
          "output_type": "stream"
        },
        {
          "name": "stdout",
          "text": "Epoch 1: train_loss=6.06891, valid_loss=4.98256\n",
          "output_type": "stream"
        },
        {
          "name": "stderr",
          "text": "train loss=3.923, lr=0.00027: 100%|██████████| 938/938 [00:40<00:00, 23.33it/s]\n",
          "output_type": "stream"
        },
        {
          "name": "stdout",
          "text": "Epoch 2: train_loss=4.26205, valid_loss=4.20845\n",
          "output_type": "stream"
        },
        {
          "name": "stderr",
          "text": "train loss=3.411, lr=0.00041: 100%|██████████| 938/938 [00:40<00:00, 23.43it/s]\n",
          "output_type": "stream"
        },
        {
          "name": "stdout",
          "text": "Epoch 3: train_loss=3.48792, valid_loss=3.73520\n",
          "output_type": "stream"
        },
        {
          "name": "stderr",
          "text": "train loss=2.594, lr=0.00036: 100%|██████████| 938/938 [00:40<00:00, 23.34it/s]\n",
          "output_type": "stream"
        },
        {
          "name": "stdout",
          "text": "Epoch 4: train_loss=2.88792, valid_loss=3.40413\n",
          "output_type": "stream"
        },
        {
          "name": "stderr",
          "text": "train loss=2.089, lr=0.00032: 100%|██████████| 938/938 [00:40<00:00, 23.23it/s]\n",
          "output_type": "stream"
        },
        {
          "name": "stdout",
          "text": "Epoch 5: train_loss=2.41384, valid_loss=3.24562\n",
          "output_type": "stream"
        },
        {
          "name": "stderr",
          "text": "train loss=1.798, lr=0.00030: 100%|██████████| 938/938 [00:40<00:00, 23.29it/s]\n",
          "output_type": "stream"
        },
        {
          "name": "stdout",
          "text": "Epoch 6: train_loss=2.08083, valid_loss=3.16718\n",
          "output_type": "stream"
        },
        {
          "name": "stderr",
          "text": "train loss=2.077, lr=0.00027: 100%|██████████| 938/938 [00:40<00:00, 23.28it/s]\n",
          "output_type": "stream"
        },
        {
          "name": "stdout",
          "text": "Epoch 7: train_loss=1.83717, valid_loss=3.13267\n",
          "output_type": "stream"
        },
        {
          "name": "stderr",
          "text": "train loss=1.698, lr=0.00026: 100%|██████████| 938/938 [00:40<00:00, 23.26it/s]\n",
          "output_type": "stream"
        },
        {
          "name": "stdout",
          "text": "Epoch 8: train_loss=1.64652, valid_loss=3.12393\n",
          "output_type": "stream"
        },
        {
          "name": "stderr",
          "text": "train loss=1.475, lr=0.00024: 100%|██████████| 938/938 [00:40<00:00, 23.29it/s]\n",
          "output_type": "stream"
        },
        {
          "name": "stdout",
          "text": "Epoch 9: train_loss=1.48866, valid_loss=3.16882\n",
          "output_type": "stream"
        },
        {
          "name": "stderr",
          "text": "train loss=1.397, lr=0.00023: 100%|██████████| 938/938 [00:40<00:00, 23.33it/s]\n",
          "output_type": "stream"
        },
        {
          "name": "stdout",
          "text": "Epoch 10: train_loss=1.35221, valid_loss=3.20992\nsrc:  The meat is torn up.\ntrg:  La chair est déchirée.\npred: La viande est monté au point.\nsrc:  And then right beyond -- there's usually a little chain there -- right beyond, they would see the kids being tutored.\ntrg:  Et ensuite juste au-delà -- d'habitude il y a une petite chaîne là -- juste au-delà, ils voyaient les enfants en train d'être aidés.\npred: Et puis au-delà -- il y a une petite chaîne là-bas -- juste au-delà, ils verraient les enfants.\nsrc:  This, also, is nothing new.\ntrg:  Ça aussi, ce n'est pas nouveau.\npred: Ça ne s'est aussi de nouveau.\nsrc:  So, the last example I have time to show you today is a music sequencing and live performance tool that we've built recently, in which Siftables act as sounds like lead, bass and drums.\ntrg:  Le dernier exemple que j'ai le temps de vous montrer aujourd'hui est un outil d'arrangement musical et de performance en direct que nous avons construit récemment, dans lequel les Siftables jouent le rôle de\npred: Donc, le dernier exemple, j'ai du temps pour vous montrer aujourd'hui est une l'armée de l'outil et vivre récemment que nous avons construit récemment récemment, dans lequel des sons incréréaux\nsrc:  Each of these has four different variations, you get to choose which one you want to use.\ntrg:  Chacun d'entre eux possède quatre variations, on peut choisir celle qu'on veut utiliser.\npred: Chacun de ces quatre variations, on peut choisir ce qu'on veut utiliser.\nsrc:  And you can inject these sounds into a sequence that you can assemble into the pattern that you want.\ntrg:  Et on peut intégrer ces sons dans une séquence que l'on peut assembler au sein du schéma qu'on veut.\npred: Et vous pouvez injecter ces sons en séquencer une séquence que vous pouvez assembler en forme que vous voulez.\nsrc:  It also means tomorrow, after a day and a night.\ntrg:  Ça veut aussi dire demain, après un jour et une nuit.\npred: Il veut aussi dire que demain, une nuit et une nuit nuit.\nsrc:  The sun is coming up above the horizon. Sunrise.\ntrg:  Le soleil se lève au-dessus de l'horizon. L'aube.\npred: Le soleil est venu au-delà du soleil.\nsrc:  A door. Put a plank inside the door, it's a door bolt.\ntrg:  Une porte. Une planche dans la porte, c'est un verrou.\npred: Un porte portez une porte à l'intérieur, c'est une porte.\nConfig: {'N_encoder': 3, 'N_decoder': 3, 'h': 8, 'd_embed': 512, 'dropout': 0.1}\ntrain_loss: 1.3522, valid_loss: 3.2099, test_loss: 2.8070\ntrain_bleu: 38.5102, valid_bleu: 13.9211, test_bleu: 17.4936\n",
          "output_type": "stream"
        },
        {
          "name": "stderr",
          "text": "train loss=5.044, lr=0.00011: 100%|██████████| 938/938 [01:27<00:00, 10.73it/s]\n",
          "output_type": "stream"
        },
        {
          "name": "stdout",
          "text": "Epoch 1: train_loss=5.95644, valid_loss=4.94901\n",
          "output_type": "stream"
        },
        {
          "name": "stderr",
          "text": "train loss=4.031, lr=0.00022: 100%|██████████| 938/938 [01:27<00:00, 10.74it/s]\n",
          "output_type": "stream"
        },
        {
          "name": "stdout",
          "text": "Epoch 2: train_loss=4.32675, valid_loss=4.31651\n",
          "output_type": "stream"
        },
        {
          "name": "stderr",
          "text": "train loss=3.448, lr=0.00034: 100%|██████████| 938/938 [01:27<00:00, 10.75it/s]\n",
          "output_type": "stream"
        },
        {
          "name": "stdout",
          "text": "Epoch 3: train_loss=3.66449, valid_loss=3.85200\n",
          "output_type": "stream"
        },
        {
          "name": "stderr",
          "text": "train loss=2.854, lr=0.00030: 100%|██████████| 938/938 [01:27<00:00, 10.75it/s]\n",
          "output_type": "stream"
        },
        {
          "name": "stdout",
          "text": "Epoch 4: train_loss=3.07611, valid_loss=3.52989\n",
          "output_type": "stream"
        },
        {
          "name": "stderr",
          "text": "train loss=2.199, lr=0.00026: 100%|██████████| 938/938 [01:27<00:00, 10.75it/s]\n",
          "output_type": "stream"
        },
        {
          "name": "stdout",
          "text": "Epoch 5: train_loss=2.62173, valid_loss=3.31930\n",
          "output_type": "stream"
        },
        {
          "name": "stderr",
          "text": "train loss=2.525, lr=0.00024: 100%|██████████| 938/938 [01:27<00:00, 10.76it/s]\n",
          "output_type": "stream"
        },
        {
          "name": "stdout",
          "text": "Epoch 6: train_loss=2.31002, valid_loss=3.23340\n",
          "output_type": "stream"
        },
        {
          "name": "stderr",
          "text": "train loss=2.127, lr=0.00022: 100%|██████████| 938/938 [01:27<00:00, 10.75it/s]\n",
          "output_type": "stream"
        },
        {
          "name": "stdout",
          "text": "Epoch 7: train_loss=2.08252, valid_loss=3.16236\n",
          "output_type": "stream"
        },
        {
          "name": "stderr",
          "text": "train loss=1.977, lr=0.00021: 100%|██████████| 938/938 [01:27<00:00, 10.75it/s]\n",
          "output_type": "stream"
        },
        {
          "name": "stdout",
          "text": "Epoch 8: train_loss=1.90214, valid_loss=3.15315\n",
          "output_type": "stream"
        },
        {
          "name": "stderr",
          "text": "train loss=1.685, lr=0.00020: 100%|██████████| 938/938 [01:27<00:00, 10.74it/s]\n",
          "output_type": "stream"
        },
        {
          "name": "stdout",
          "text": "Epoch 9: train_loss=1.75390, valid_loss=3.12913\n",
          "output_type": "stream"
        },
        {
          "name": "stderr",
          "text": "train loss=1.975, lr=0.00019: 100%|██████████| 938/938 [01:27<00:00, 10.75it/s]\n",
          "output_type": "stream"
        },
        {
          "name": "stdout",
          "text": "Epoch 10: train_loss=1.62820, valid_loss=3.12977\nsrc:  It was historical. Could it work in Afghanistan with UNAMA and WHO and civil society, etc., etc., etc.?\ntrg:  C'était historique. Cela pouvait-il fonctionner en Afghanistan avec la MANUA, l'OMS la société civile, etc. ?\npred: C'était historique. Il était-ce que ça marche en Afghanistan avec l'ANANANANAppluie et la société civique, etc.\nsrc:  They understand, in that context, \"free.\" They understand \"free\" is an important essential part of the cultural ecology as well.\ntrg:  Ils comprennent, dans ce contexte -- gratuit -- ils comprennent que la gratuité est une part importante et essentielle de l'écologie culturelle aussi.\npred: Ils comprennent, dans ce contexte, sans peur.\" Ils comprennent que \"Ce est un aspect essentiel de l'écologie culturelle.\nsrc:  Lewis Richardson saw how you could do this with a cellular array of people, giving them each a little chunk, and putting it together.\ntrg:  Lewis Richardson comprit comment faire cela à l'aide d'un réseau de personnes fournissant chacune un morceau du puzzle et en les recombinant.\npred: Lewis Richardsones a vu comment on pouvait faire ça avec une série de personnes.\nsrc:  So, the last example I have time to show you today is a music sequencing and live performance tool that we've built recently, in which Siftables act as sounds like lead, bass and drums.\ntrg:  Le dernier exemple que j'ai le temps de vous montrer aujourd'hui est un outil d'arrangement musical et de performance en direct que nous avons construit récemment, dans lequel les Siftables jouent le rôle de\npred: Donc, le dernier exemple que je dois vous montrer aujourd'hui est une musique de construction et de performances qui ont construit récemment récemment, dans ce qui a construit des sons comme des sons pour faire des mouvements.\nsrc:  Each of these has four different variations, you get to choose which one you want to use.\ntrg:  Chacun d'entre eux possède quatre variations, on peut choisir celle qu'on veut utiliser.\npred: Chacune de ces variations a quatre variations différentes, vous devez choisir ce que vous voulez.\nsrc:  And you can inject these sounds into a sequence that you can assemble into the pattern that you want.\ntrg:  Et on peut intégrer ces sons dans une séquence que l'on peut assembler au sein du schéma qu'on veut.\npred: Et vous pouvez injecter ces sons en une séquence qui peut se déplacer dans le schéma que vous voulez.\nsrc:  It also means tomorrow, after a day and a night.\ntrg:  Ça veut aussi dire demain, après un jour et une nuit.\npred: Ça veut aussi dire demain, après un jour et une nuit.\nsrc:  The sun is coming up above the horizon. Sunrise.\ntrg:  Le soleil se lève au-dessus de l'horizon. L'aube.\npred: Le soleil arrive au-dessus de l'horizon.\nsrc:  A door. Put a plank inside the door, it's a door bolt.\ntrg:  Une porte. Une planche dans la porte, c'est un verrou.\npred: Une porte. Metpsante dans la porte, c'est une porte de la porte.\nConfig: {'N_encoder': 4, 'N_decoder': 4, 'h': 12, 'd_embed': 768, 'dropout': 0.2}\ntrain_loss: 1.6282, valid_loss: 3.1298, test_loss: 2.7692\ntrain_bleu: 33.9656, valid_bleu: 14.0930, test_bleu: 17.7228\n",
          "output_type": "stream"
        },
        {
          "name": "stderr",
          "text": "train loss=5.089, lr=0.00019: 100%|██████████| 938/938 [00:22<00:00, 41.92it/s]\n",
          "output_type": "stream"
        },
        {
          "name": "stdout",
          "text": "Epoch 1: train_loss=6.64409, valid_loss=5.36793\n",
          "output_type": "stream"
        },
        {
          "name": "stderr",
          "text": "train loss=4.425, lr=0.00039: 100%|██████████| 938/938 [00:21<00:00, 43.97it/s]\n",
          "output_type": "stream"
        },
        {
          "name": "stdout",
          "text": "Epoch 2: train_loss=4.75736, valid_loss=4.66183\n",
          "output_type": "stream"
        },
        {
          "name": "stderr",
          "text": "train loss=3.719, lr=0.00058: 100%|██████████| 938/938 [00:20<00:00, 45.59it/s]\n",
          "output_type": "stream"
        },
        {
          "name": "stdout",
          "text": "Epoch 3: train_loss=4.16514, valid_loss=4.26008\n",
          "output_type": "stream"
        },
        {
          "name": "stderr",
          "text": "train loss=3.964, lr=0.00051: 100%|██████████| 938/938 [00:20<00:00, 45.42it/s]\n",
          "output_type": "stream"
        },
        {
          "name": "stdout",
          "text": "Epoch 4: train_loss=3.75465, valid_loss=3.96861\n",
          "output_type": "stream"
        },
        {
          "name": "stderr",
          "text": "train loss=3.332, lr=0.00046: 100%|██████████| 938/938 [00:21<00:00, 43.35it/s]\n",
          "output_type": "stream"
        },
        {
          "name": "stdout",
          "text": "Epoch 5: train_loss=3.44100, valid_loss=3.78879\n",
          "output_type": "stream"
        },
        {
          "name": "stderr",
          "text": "train loss=3.177, lr=0.00042: 100%|██████████| 938/938 [00:21<00:00, 42.95it/s]\n",
          "output_type": "stream"
        },
        {
          "name": "stdout",
          "text": "Epoch 6: train_loss=3.22871, valid_loss=3.69489\n",
          "output_type": "stream"
        },
        {
          "name": "stderr",
          "text": "train loss=3.058, lr=0.00039: 100%|██████████| 938/938 [00:21<00:00, 43.13it/s]\n",
          "output_type": "stream"
        },
        {
          "name": "stdout",
          "text": "Epoch 7: train_loss=3.06982, valid_loss=3.61058\n",
          "output_type": "stream"
        },
        {
          "name": "stderr",
          "text": "train loss=2.809, lr=0.00036: 100%|██████████| 938/938 [00:21<00:00, 44.53it/s]\n",
          "output_type": "stream"
        },
        {
          "name": "stdout",
          "text": "Epoch 8: train_loss=2.94696, valid_loss=3.56531\n",
          "output_type": "stream"
        },
        {
          "name": "stderr",
          "text": "train loss=2.953, lr=0.00034: 100%|██████████| 938/938 [00:20<00:00, 45.66it/s]\n",
          "output_type": "stream"
        },
        {
          "name": "stdout",
          "text": "Epoch 9: train_loss=2.84982, valid_loss=3.52734\n",
          "output_type": "stream"
        },
        {
          "name": "stderr",
          "text": "train loss=2.605, lr=0.00032: 100%|██████████| 938/938 [00:20<00:00, 46.78it/s]\n",
          "output_type": "stream"
        },
        {
          "name": "stdout",
          "text": "Epoch 10: train_loss=2.76822, valid_loss=3.47754\nsrc:  But a friend of mine spent four hours wandering around here looking for this restaurant.\ntrg:  Mais un ami à moi a passé quatre heures à déambuler pour trouver ce restaurant.\npred: Mais une amie de quatre heures de la recherche ici pour regarder ce restaurant.\nsrc:  I think our best projects are ones that are site specific and happen at a particular place for a reason.\ntrg:  Je crois que nos meilleurs projets sont ceux qui sont liés à un endroit et se passent dans un endroit particulier pour une raison.\npred: Je pense que notre meilleur site sont les projets qui sont spécifiques et qui se passe dans un endroit particulier pour une raison pour laquelle une raison pour laquelle je pense que la raison.\nsrc:  We had a big party at the end.\ntrg:  On a fait une grosse fête à la fin.\npred: Nous avions une grande partie de la fin de la fin.\nsrc:  So, the last example I have time to show you today is a music sequencing and live performance tool that we've built recently, in which Siftables act as sounds like lead, bass and drums.\ntrg:  Le dernier exemple que j'ai le temps de vous montrer aujourd'hui est un outil d'arrangement musical et de performance en direct que nous avons construit récemment, dans lequel les Siftables jouent le rôle de\npred: Donc, le dernier exemple, je dois vous montrer une musique aujourd'hui et la musique que nous avons construit une relation complexe, qui nous avons construit des mouvements de la corsation de son politation et des mouvements qui\nsrc:  Each of these has four different variations, you get to choose which one you want to use.\ntrg:  Chacun d'entre eux possède quatre variations, on peut choisir celle qu'on veut utiliser.\npred: Chaque partie de ces quatre variations différentes, vous voulez choisir un utiliser.\nsrc:  And you can inject these sounds into a sequence that you can assemble into the pattern that you want.\ntrg:  Et on peut intégrer ces sons dans une séquence que l'on peut assembler au sein du schéma qu'on veut.\npred: Et vous pouvez ces sons dans une séquence qui peut vous exprimer la modèle qui se passe dans le modèle.\nsrc:  It also means tomorrow, after a day and a night.\ntrg:  Ça veut aussi dire demain, après un jour et une nuit.\npred: Ça veut dire, alors après une journée et une nuit.\nsrc:  The sun is coming up above the horizon. Sunrise.\ntrg:  Le soleil se lève au-dessus de l'horizon. L'aube.\npred: Le soleil est venu au soleil.\nsrc:  A door. Put a plank inside the door, it's a door bolt.\ntrg:  Une porte. Une planche dans la porte, c'est un verrou.\npred: Une porte-le. La porte de la porte, c'est une porte.\nConfig: {'N_encoder': 2, 'N_decoder': 2, 'h': 8, 'd_embed': 256, 'dropout': 0.3}\ntrain_loss: 2.7682, valid_loss: 3.4775, test_loss: 3.1542\ntrain_bleu: 18.8687, valid_bleu: 9.1092, test_bleu: 12.2036\n",
          "output_type": "stream"
        }
      ],
      "execution_count": null
    },
    {
      "cell_type": "code",
      "source": [
        "import matplotlib.pyplot as plt\n",
        "\n",
        "# Data\n",
        "hyperparameter_labels = ['Set 1', 'Set 2', 'Set 3']\n",
        "train_losses = [1.3566, 1.6242, 2.7396]\n",
        "valid_losses = [3.2089, 3.1403, 3.4618]\n",
        "test_losses = [2.8034, 2.7747, 3.1241]\n",
        "\n",
        "train_bleus = [38.8266, 34.0552, 18.6776]\n",
        "valid_bleus = [14.6802, 14.2309, 8.8439]\n",
        "test_bleus = [18.3437, 17.4338, 11.7142]\n",
        "\n",
        "# Plotting Losses\n",
        "plt.figure(figsize=(10, 5))\n",
        "plt.plot(hyperparameter_labels, train_losses, label='Train Loss', marker='o')\n",
        "plt.plot(hyperparameter_labels, valid_losses, label='Validation Loss', marker='o')\n",
        "plt.plot(hyperparameter_labels, test_losses, label='Test Loss', marker='o')\n",
        "plt.xlabel('Hyperparameter Set')\n",
        "plt.ylabel('Loss')\n",
        "plt.title('Train, Validation, and Test Loss across Hyperparameter Sets')\n",
        "plt.legend()\n",
        "plt.grid(True)\n",
        "plt.show()\n",
        "\n",
        "# Plotting BLEU Scores\n",
        "plt.figure(figsize=(10, 5))\n",
        "plt.plot(hyperparameter_labels, train_bleus, label='Train BLEU', marker='o')\n",
        "plt.plot(hyperparameter_labels, valid_bleus, label='Validation BLEU', marker='o')\n",
        "plt.plot(hyperparameter_labels, test_bleus, label='Test BLEU', marker='o')\n",
        "plt.xlabel('Hyperparameter Set')\n",
        "plt.ylabel('BLEU Score')\n",
        "plt.title('Train, Validation, and Test BLEU Scores across Hyperparameter Sets')\n",
        "plt.legend()\n",
        "plt.grid(True)\n",
        "plt.show()"
      ],
      "metadata": {
        "execution": {
          "iopub.status.busy": "2024-10-02T18:13:02.138206Z",
          "iopub.execute_input": "2024-10-02T18:13:02.138608Z",
          "iopub.status.idle": "2024-10-02T18:13:02.813118Z",
          "shell.execute_reply.started": "2024-10-02T18:13:02.13856Z",
          "shell.execute_reply": "2024-10-02T18:13:02.812053Z"
        },
        "trusted": true,
        "id": "hU3LiEr1fXCL",
        "outputId": "7004fdc6-a028-4f2a-d2ac-e5b7928613bb"
      },
      "outputs": [
        {
          "output_type": "display_data",
          "data": {
            "text/plain": "<Figure size 1000x500 with 1 Axes>",
            "image/png": "[encoded data removed]"
          },
          "metadata": {}
        },
        {
          "output_type": "display_data",
          "data": {
            "text/plain": "<Figure size 1000x500 with 1 Axes>",
            "image/png": "[encoded data removed]"
          },
          "metadata": {}
        }
      ],
      "execution_count": null
    },
    {
      "cell_type": "code",
      "source": [],
      "metadata": {
        "id": "pZc9gFocfXCP"
      },
      "outputs": [],
      "execution_count": null
    }
  ]
}